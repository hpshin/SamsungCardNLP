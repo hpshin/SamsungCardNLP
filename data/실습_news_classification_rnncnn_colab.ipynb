{
  "nbformat": 4,
  "nbformat_minor": 0,
  "metadata": {
    "kernelspec": {
      "display_name": "Python 3",
      "language": "python",
      "name": "python3"
    },
    "language_info": {
      "codemirror_mode": {
        "name": "ipython",
        "version": 3
      },
      "file_extension": ".py",
      "mimetype": "text/x-python",
      "name": "python",
      "nbconvert_exporter": "python",
      "pygments_lexer": "ipython3",
      "version": "3.7.5"
    },
    "colab": {
      "name": "실습_news_classification_rnncnn_colab.ipynb",
      "provenance": [],
      "collapsed_sections": [
        "1xyFL-rjbfuZ",
        "z5Z7ufn-bfua",
        "cpacwhWtbfub"
      ]
    },
    "accelerator": "GPU"
  },
  "cells": [
    {
      "cell_type": "markdown",
      "metadata": {
        "id": "AZPqtp_ObfuI"
      },
      "source": [
        "# 한국어 뉴스기사 분류"
      ]
    },
    {
      "cell_type": "markdown",
      "metadata": {
        "id": "g6cllCH0bfuK"
      },
      "source": [
        "## 한국어 뉴스기사 범주 분류기 만들기\n",
        "\n",
        "- 자료실에 있는 BalancedNewsCorpus_train.csv, BalancedNewsCorpus_test.csv는 국어원 뉴스 자료에서 9개 분야의 신문별 균형을 맞춘 자료로, 학습용 9,000개 시험용 1800 자료가 있는 파일이다.\n",
        "- 이 파일을 가지고 https://github.com/bentrevett/pytorch-sentiment-analysis 에 있는 pytorch sentiment analysis의 방법을 따라 한국어 뉴스기사 분류기를 만들기"
      ]
    },
    {
      "cell_type": "markdown",
      "metadata": {
        "id": "Z2cWoccbbfuL"
      },
      "source": [
        "## 목표\n",
        "\n",
        "- csv 파일을 읽어서 torchtext를 사용하여 데이터를 신경망에 입력가능한 꼴로 바꾸기\n",
        "(Field, Iterator, train,test, evaluation and prediction)\n",
        "- 한국어 데이터 전처리를 위한 함수를 만들고 이를 torchtext에 통합하기 \n",
        "\n",
        "- 외부에서 학습된 한국어 단어 임베딩을 torchtext에 통합하여 사용하기 (word2vec, glove, fasttext 중 골라서 사용)\n",
        "- 제시된 여러 모델을 사용하여(transformers 제외) 성능을 향상 시키기\n",
        "- training, evaluation 한 것을 test 데이터에 적용하여 성능을 보이기.\n",
        "- predict를 사용하여 제시된 기사들의 분류 결과를 보이기\n",
        "\n",
        "- 참고 사이트\n",
        "    - https://pytorch.org/text/\n",
        "    - http://mlexplained.com/2018/02/08/a-comprehensive-tutorial-to-torchtext/\n",
        "    - https://github.com/pytorch/text\n",
        "    - https://mc.ai/using-fine-tuned-gensim-word2vec-embeddings-with-torchtext-and-pytorch/"
      ]
    },
    {
      "cell_type": "markdown",
      "metadata": {
        "id": "N3jqRSVKbfuM"
      },
      "source": [
        "## 이 자료를 위해 사전학습된 임베딩\n",
        "- 필요에 따라 선택하여 사용할 수 있음\n",
        "\n",
        "### Word2vec 모델\n",
        " - 노트 : https://drive.google.com/file/d/1KOv901TPv5gepEdd4cCsJWoCHVaAV-A-/view?usp=sharing\n",
        " - Word2Vec 형태소 모델 : https://drive.google.com/file/d/1DDx6lRSTVULRFP3kslQLZsuoGZJOtoR1/view?usp=sharing\n",
        " - Word2Vec 어절 모델 : https://drive.google.com/file/d/1-RuEk-MhULduAbizgt3wjsMOCL3sM_pl/view?usp=sharing\n",
        "\n",
        "- from gensim.models.keyedvectors import KeyedVectors\n",
        "- Word2Vec_300D_space_model = KeyedVectors.load_word2vec_format(path + 'Word2Vec_300D_space.model', binary=False, encoding='utf-8')\n",
        "\n",
        "\n",
        "### Fasttext 모델\n",
        "\n",
        "- fasttext 형태소 모델: https://drive.google.com/file/d/1-EBaAtFK7chB6qqckKmLdghR62SebEYK/view?usp=sharing\n",
        "- fasttext 어절 모델: https://drive.google.com/file/d/1-0D7Fe5oG_z9pQqOjkewtsuV_uVkh_dF/view?usp=sharing\n",
        "- fasttext 형태소 자모 모델: https://drive.google.com/file/d/1-WW_qWQZ2q3Jj9fXXex82dYHWIMHGVri/view?usp=sharing\n",
        "- fasttext 어절 자모 모델: https://drive.google.com/file/d/1-P2b8Dp09fZYO2Y__wjPNmS77PF7kfqV/view?usp=sharing\n",
        "\n",
        "\n",
        "- from gensim.models.keyedvectors import KeyedVectors\n",
        "- fasttext_model2 = KeyedVectors.load_word2vec_format(path + 'fasttext_morph_300.model', binary=False, encoding='utf-8')\n",
        "\n",
        "### Glove 모델\n",
        "\n",
        "- https://drive.google.com/drive/folders/1pzVO0jwx1Zf8p4hjf4JQn81XWzktsIdg?usp=sharing \n",
        "\n",
        "\n",
        "- from gensim.models.keyedvectors import KeyedVectors\n",
        "- Glove_model = KeyedVectors.load_word2vec_format(# 모델 경로 , binary=False, encoding='utf-8')\n"
      ]
    },
    {
      "cell_type": "markdown",
      "metadata": {
        "id": "uq9BWERIbfuM"
      },
      "source": [
        "## 코드 개요\n",
        "\n",
        "* 필요한 라이브러리 설치 및 불러오기\n",
        "* 뉴스기사 데이터 불러오기, 데이터 전처리\n",
        "* 분류 모델 구축하기\n",
        "* 분류 모델 학습하기\n",
        "* 학습한 분류 모델 테스트하기"
      ]
    },
    {
      "cell_type": "markdown",
      "metadata": {
        "id": "jJbyq315bfuN"
      },
      "source": [
        "## 1. 필요한 라이브러리 준비하기"
      ]
    },
    {
      "cell_type": "code",
      "metadata": {
        "colab": {
          "base_uri": "https://localhost:8080/",
          "height": 1000
        },
        "id": "huO9alrbbfuN",
        "outputId": "e6e7ad01-709b-4f50-a3db-88494d3790f4"
      },
      "source": [
        "# 설치되어 있지 않은 라이브러리 설치\n",
        "# !pip install torchtext\n",
        "# !pip install gensim\n",
        "!pip install --ignore-installed hanja\n",
        "\n",
        "# !apt-get update\n",
        "# !apt-get install g++ openjdk-8-jdk python-dev python3-dev\n",
        "# !pip install JPype1-py3\n",
        "!pip install konlpy\n",
        "# !JAVA_HOME=\"/usr/lib/jvm/java-8-openjdk-amd64\"\n",
        "\n",
        "# !sudo apt-get install curl\n",
        "# !bash <(curl -s https://raw.githubusercontent.com/konlpy/konlpy/master/scripts/mecab.sh)\n",
        "\n",
        "# 라이브러리 불러오기\n",
        "import numpy as np\n",
        "import pandas as pd\n",
        "import re, hanja\n",
        "\n",
        "import torch, torchtext\n",
        "from torchtext.legacy import data, datasets\n",
        "import konlpy\n",
        "from konlpy.tag import Okt # Kkma, Komoran, Mecab 등 다른 종류의 형태소분석기 사용 가능\n",
        "\n",
        "import random\n",
        "SEED = 1234\n",
        "\n",
        "from torchtext.vocab import Vectors\n",
        "from gensim.models.keyedvectors import KeyedVectors\n",
        "\n",
        "import numpy as np\n",
        "\n",
        "import torch.nn as nn\n",
        "from torch.nn.utils.rnn import pack_padded_sequence, pad_packed_sequence\n",
        "import torch.nn.functional as F\n",
        "import torch.optim as optim\n",
        "from tqdm import tqdm\n",
        "import time"
      ],
      "execution_count": null,
      "outputs": [
        {
          "output_type": "stream",
          "text": [
            "Processing /root/.cache/pip/wheels/45/fc/c9/b7e7cb5c86935a1a99e2ad07f763728f8f17560e7b815a4b27/hanja-0.13.3-cp37-none-any.whl\n",
            "Collecting coveralls\n",
            "  Using cached https://files.pythonhosted.org/packages/4f/c1/4338af20641814915f6970b6baa89deabe2b1b83f961fd0ef0cbfb0638a1/coveralls-3.1.0-py2.py3-none-any.whl\n",
            "Collecting pytest\n",
            "  Using cached https://files.pythonhosted.org/packages/a1/59/6821e900592fbe261f19d67e4def0cb27e52ef8ed16d9922c144961cc1ee/pytest-6.2.4-py3-none-any.whl\n",
            "Processing /root/.cache/pip/wheels/d9/45/dd/65f0b38450c47cf7e5312883deb97d065e030c5cca0a365030/PyYAML-5.1.2-cp37-cp37m-linux_x86_64.whl\n",
            "Collecting pytest-cov\n",
            "  Using cached https://files.pythonhosted.org/packages/ba/84/576b071aef9ac9301e5c0ff35d117e12db50b87da6f12e745e9c5f745cc2/pytest_cov-2.12.1-py2.py3-none-any.whl\n",
            "Collecting coverage<6.0,>=4.1\n",
            "  Using cached https://files.pythonhosted.org/packages/16/e0/fc9f7bd9b84e6b41d0aad1a113e36714aac0c0a9b307aca5f9af443bc50f/coverage-5.5-cp37-cp37m-manylinux2010_x86_64.whl\n",
            "Collecting requests>=1.0.0\n",
            "  Using cached https://files.pythonhosted.org/packages/29/c1/24814557f1d22c56d50280771a17307e6bf87b70727d975fd6b2ce6b014a/requests-2.25.1-py2.py3-none-any.whl\n",
            "Processing /root/.cache/pip/wheels/9b/04/dd/7daf4150b6d9b12949298737de9431a324d4b797ffd63f526e/docopt-0.6.2-py2.py3-none-any.whl\n",
            "Collecting toml\n",
            "  Using cached https://files.pythonhosted.org/packages/44/6f/7120676b6d73228c96e17f1f794d8ab046fc910d781c8d151120c3f1569e/toml-0.10.2-py2.py3-none-any.whl\n",
            "Collecting attrs>=19.2.0\n",
            "  Using cached https://files.pythonhosted.org/packages/20/a9/ba6f1cd1a1517ff022b35acd6a7e4246371dfab08b8e42b829b6d07913cc/attrs-21.2.0-py2.py3-none-any.whl\n",
            "Collecting py>=1.8.2\n",
            "  Using cached https://files.pythonhosted.org/packages/67/32/6fe01cfc3d1a27c92fdbcdfc3f67856da8cbadf0dd9f2e18055202b2dc62/py-1.10.0-py2.py3-none-any.whl\n",
            "Collecting iniconfig\n",
            "  Using cached https://files.pythonhosted.org/packages/9b/dd/b3c12c6d707058fa947864b67f0c4e0c39ef8610988d7baea9578f3c48f3/iniconfig-1.1.1-py2.py3-none-any.whl\n",
            "Collecting packaging\n",
            "  Using cached https://files.pythonhosted.org/packages/3e/89/7ea760b4daa42653ece2380531c90f64788d979110a2ab51049d92f408af/packaging-20.9-py2.py3-none-any.whl\n",
            "Collecting importlib-metadata>=0.12; python_version < \"3.8\"\n",
            "  Using cached https://files.pythonhosted.org/packages/23/5d/f2151217058e7d5c5b4b584bc6052c2ae478c5a36b58a056364351613bfb/importlib_metadata-4.5.0-py3-none-any.whl\n",
            "Collecting pluggy<1.0.0a1,>=0.12\n",
            "  Using cached https://files.pythonhosted.org/packages/a0/28/85c7aa31b80d150b772fbe4a229487bc6644da9ccb7e427dd8cc60cb8a62/pluggy-0.13.1-py2.py3-none-any.whl\n",
            "Collecting certifi>=2017.4.17\n",
            "  Using cached https://files.pythonhosted.org/packages/05/1b/0a0dece0e8aa492a6ec9e4ad2fe366b511558cdc73fd3abc82ba7348e875/certifi-2021.5.30-py2.py3-none-any.whl\n",
            "Collecting chardet<5,>=3.0.2\n",
            "  Using cached https://files.pythonhosted.org/packages/19/c7/fa589626997dd07bd87d9269342ccb74b1720384a4d739a1872bd84fbe68/chardet-4.0.0-py2.py3-none-any.whl\n",
            "Collecting urllib3<1.27,>=1.21.1\n",
            "  Using cached https://files.pythonhosted.org/packages/0c/cd/1e2ec680ec7b09846dc6e605f5a7709dfb9d7128e51a026e7154e18a234e/urllib3-1.26.5-py2.py3-none-any.whl\n",
            "Collecting idna<3,>=2.5\n",
            "  Using cached https://files.pythonhosted.org/packages/a2/38/928ddce2273eaa564f6f50de919327bf3a00f091b5baba8dfa9460f3a8a8/idna-2.10-py2.py3-none-any.whl\n",
            "Collecting pyparsing>=2.0.2\n",
            "  Using cached https://files.pythonhosted.org/packages/8a/bb/488841f56197b13700afd5658fc279a2025a39e22449b7cf29864669b15d/pyparsing-2.4.7-py2.py3-none-any.whl\n",
            "Collecting zipp>=0.5\n",
            "  Using cached https://files.pythonhosted.org/packages/0f/8c/715c54e9e34c0c4820f616a913a7de3337d0cd79074dd1bed4dd840f16ae/zipp-3.4.1-py3-none-any.whl\n",
            "Collecting typing-extensions>=3.6.4; python_version < \"3.8\"\n",
            "  Using cached https://files.pythonhosted.org/packages/2e/35/6c4fff5ab443b57116cb1aad46421fb719bed2825664e8fe77d66d99bcbc/typing_extensions-3.10.0.0-py3-none-any.whl\n",
            "\u001b[31mERROR: tensorflow 2.5.0 has requirement typing-extensions~=3.7.4, but you'll have typing-extensions 3.10.0.0 which is incompatible.\u001b[0m\n",
            "\u001b[31mERROR: google-colab 1.0.0 has requirement requests~=2.23.0, but you'll have requests 2.25.1 which is incompatible.\u001b[0m\n",
            "\u001b[31mERROR: datascience 0.10.6 has requirement coverage==3.7.1, but you'll have coverage 5.5 which is incompatible.\u001b[0m\n",
            "\u001b[31mERROR: datascience 0.10.6 has requirement coveralls==0.5, but you'll have coveralls 3.1.0 which is incompatible.\u001b[0m\n",
            "\u001b[31mERROR: datascience 0.10.6 has requirement folium==0.2.1, but you'll have folium 0.8.3 which is incompatible.\u001b[0m\n",
            "\u001b[31mERROR: albumentations 0.1.12 has requirement imgaug<0.2.7,>=0.2.5, but you'll have imgaug 0.2.9 which is incompatible.\u001b[0m\n",
            "Installing collected packages: coverage, certifi, chardet, urllib3, idna, requests, docopt, coveralls, toml, attrs, py, iniconfig, pyparsing, packaging, zipp, typing-extensions, importlib-metadata, pluggy, pytest, pyyaml, pytest-cov, hanja\n",
            "Successfully installed attrs-21.2.0 certifi-2021.5.30 chardet-4.0.0 coverage-5.5 coveralls-3.1.0 docopt-0.6.2 hanja-0.13.3 idna-2.10 importlib-metadata-4.5.0 iniconfig-1.1.1 packaging-20.9 pluggy-0.13.1 py-1.10.0 pyparsing-2.4.7 pytest-6.2.4 pytest-cov-2.12.1 pyyaml-5.1.2 requests-2.25.1 toml-0.10.2 typing-extensions-3.10.0.0 urllib3-1.26.5 zipp-3.4.1\n"
          ],
          "name": "stdout"
        },
        {
          "output_type": "display_data",
          "data": {
            "application/vnd.colab-display-data+json": {
              "pip_warning": {
                "packages": [
                  "certifi",
                  "chardet",
                  "hanja",
                  "idna",
                  "pyparsing",
                  "requests",
                  "typing_extensions",
                  "urllib3"
                ]
              }
            }
          },
          "metadata": {
            "tags": []
          }
        },
        {
          "output_type": "stream",
          "text": [
            "Requirement already satisfied: konlpy in /usr/local/lib/python3.7/dist-packages (0.5.2)\n",
            "Requirement already satisfied: lxml>=4.1.0 in /usr/local/lib/python3.7/dist-packages (from konlpy) (4.2.6)\n",
            "Requirement already satisfied: tweepy>=3.7.0 in /usr/local/lib/python3.7/dist-packages (from konlpy) (3.10.0)\n",
            "Requirement already satisfied: JPype1>=0.7.0 in /usr/local/lib/python3.7/dist-packages (from konlpy) (1.3.0)\n",
            "Requirement already satisfied: colorama in /usr/local/lib/python3.7/dist-packages (from konlpy) (0.4.4)\n",
            "Requirement already satisfied: numpy>=1.6 in /usr/local/lib/python3.7/dist-packages (from konlpy) (1.19.5)\n",
            "Requirement already satisfied: beautifulsoup4==4.6.0 in /usr/local/lib/python3.7/dist-packages (from konlpy) (4.6.0)\n",
            "Requirement already satisfied: requests-oauthlib>=0.7.0 in /usr/local/lib/python3.7/dist-packages (from tweepy>=3.7.0->konlpy) (1.3.0)\n",
            "Requirement already satisfied: requests[socks]>=2.11.1 in /usr/local/lib/python3.7/dist-packages (from tweepy>=3.7.0->konlpy) (2.25.1)\n",
            "Requirement already satisfied: six>=1.10.0 in /usr/local/lib/python3.7/dist-packages (from tweepy>=3.7.0->konlpy) (1.15.0)\n",
            "Requirement already satisfied: typing-extensions; python_version < \"3.8\" in /usr/local/lib/python3.7/dist-packages (from JPype1>=0.7.0->konlpy) (3.10.0.0)\n",
            "Requirement already satisfied: oauthlib>=3.0.0 in /usr/local/lib/python3.7/dist-packages (from requests-oauthlib>=0.7.0->tweepy>=3.7.0->konlpy) (3.1.0)\n",
            "Requirement already satisfied: idna<3,>=2.5 in /usr/local/lib/python3.7/dist-packages (from requests[socks]>=2.11.1->tweepy>=3.7.0->konlpy) (2.10)\n",
            "Requirement already satisfied: urllib3<1.27,>=1.21.1 in /usr/local/lib/python3.7/dist-packages (from requests[socks]>=2.11.1->tweepy>=3.7.0->konlpy) (1.26.5)\n",
            "Requirement already satisfied: certifi>=2017.4.17 in /usr/local/lib/python3.7/dist-packages (from requests[socks]>=2.11.1->tweepy>=3.7.0->konlpy) (2021.5.30)\n",
            "Requirement already satisfied: chardet<5,>=3.0.2 in /usr/local/lib/python3.7/dist-packages (from requests[socks]>=2.11.1->tweepy>=3.7.0->konlpy) (4.0.0)\n",
            "Requirement already satisfied: PySocks!=1.5.7,>=1.5.6; extra == \"socks\" in /usr/local/lib/python3.7/dist-packages (from requests[socks]>=2.11.1->tweepy>=3.7.0->konlpy) (1.7.1)\n"
          ],
          "name": "stdout"
        }
      ]
    },
    {
      "cell_type": "markdown",
      "metadata": {
        "id": "i7uuZ3jAbfuO"
      },
      "source": [
        "## 2. 데이터 전처리 준비"
      ]
    },
    {
      "cell_type": "code",
      "metadata": {
        "id": "N9vbZnLCbfuP"
      },
      "source": [
        "# 토큰화 전 텍스트 내 불필요한 문자를 제거하는 함수\n",
        "# 여기서는 정규표현식(regular expression) 이용\n",
        "\n",
        "def cleanse_sentence(sent): \n",
        "    \n",
        "    # 문장 내 한자 제거\n",
        "    if re.search(\"[\\u2E80-\\u2FD5\\u3190-\\u319f\\u3400-\\u4DBF\\u4E00-\\u9FCC\\uF900-\\uFAAD]\", sent) is not None:\n",
        "        sent = hanja.translate(sent, 'substitution')\n",
        "        \n",
        "    # 문장 내 특수기호 제거\n",
        "    sent = (r'\\[[^\\]]+\\]|\\([^\\)]+\\)|\\<[^\\>]+\\>', '', str(sent))\n",
        "    sent = re.sub(\"[.,!?||]\", \" \", str(sent))\n",
        "    sent = re.sub(r'[^가-힣|\\s]', '', str(sent))\n",
        "    sent = re.sub(r'\\s+', ' ', str(sent)) \n",
        "    \n",
        "    return sent.rstrip()\n",
        "\n",
        "\n",
        "# 문장 토큰화 함수\n",
        "def tokenizer(text):\n",
        "    okt = Okt()\n",
        "    morphs_tokenized = []\n",
        "    for string in text:\n",
        "        # 위 함수를 적용하여 불필요한 한자, 특수기호 등 제거\n",
        "        string = cleanse_sentence(string)\n",
        "        # 미처 제거되지 못한 특수기호 마저 제거\n",
        "        string.replace(\"…\",\"\")\n",
        "        string.replace(\"ㆍ\",\"\")\n",
        "        # 형태소 분석기를 적용하여 문장 토큰화\n",
        "        morphs = okt.morphs(string)\n",
        "        # 분석된 토큰들 중 길이가 1보다 긴 것들만을 결과에 포함\n",
        "        morphs = [a for a in morphs if len(a) > 1]\n",
        "        morphs_tokenized += morphs\n",
        "        \n",
        "    return morphs_tokenized\n",
        "        "
      ],
      "execution_count": null,
      "outputs": []
    },
    {
      "cell_type": "markdown",
      "metadata": {
        "id": "bjfkppJebfuP"
      },
      "source": [
        "## 3. torchtext를 이용해 데이터 불러오기"
      ]
    },
    {
      "cell_type": "markdown",
      "metadata": {
        "id": "xmXNp25MbfuQ"
      },
      "source": [
        "### torchtext: PyTorch가 제공하는 텍스트 관련 기능들을 모은 라이브러리\n",
        "* from torchtext.legacy import data, datasets\n",
        "* from torchtext.vocab import Vectors 등\n",
        "* 파일 로드하기, 토큰화(tokenization), 사전(vocab) 구성, 단어->정수(integer) 인코딩, 단어 벡터 구성, 배치화(batching) 등\n",
        "* 주로 위에서 import한 'data'에서 하위 메서드를 불러와서 사용할 것임 (TabularDataset, BucketIterator 등)"
      ]
    },
    {
      "cell_type": "code",
      "metadata": {
        "colab": {
          "base_uri": "https://localhost:8080/"
        },
        "id": "lo-5ooBCcELf",
        "outputId": "d4c45f2b-3edc-4bfc-fd8e-481c60c89e3d"
      },
      "source": [
        "!wget http://knlp.snu.ac.kr/hpshin/BalancedNewsCorpusShuffled.zip\n",
        "!unzip BalancedNewsCorpusShuffled.zip -d BalancedNewsCorpusShuffled"
      ],
      "execution_count": null,
      "outputs": [
        {
          "output_type": "stream",
          "text": [
            "--2021-06-14 12:16:08--  http://knlp.snu.ac.kr/hpshin/BalancedNewsCorpusShuffled.zip\n",
            "Resolving knlp.snu.ac.kr (knlp.snu.ac.kr)... 147.46.33.123\n",
            "Connecting to knlp.snu.ac.kr (knlp.snu.ac.kr)|147.46.33.123|:80... connected.\n",
            "HTTP request sent, awaiting response... 200 OK\n",
            "Length: 11752896 (11M) [application/zip]\n",
            "Saving to: ‘BalancedNewsCorpusShuffled.zip’\n",
            "\n",
            "BalancedNewsCorpusS 100%[===================>]  11.21M   651KB/s    in 23s     \n",
            "\n",
            "2021-06-14 12:16:32 (492 KB/s) - ‘BalancedNewsCorpusShuffled.zip’ saved [11752896/11752896]\n",
            "\n",
            "Archive:  BalancedNewsCorpusShuffled.zip\n",
            "  inflating: BalancedNewsCorpusShuffled/BalancedNewsCorpus_train.csv  \n",
            "  inflating: BalancedNewsCorpusShuffled/BalancedNewsCorpus_test.csv  \n"
          ],
          "name": "stdout"
        }
      ]
    },
    {
      "cell_type": "code",
      "metadata": {
        "colab": {
          "base_uri": "https://localhost:8080/",
          "height": 204
        },
        "id": "pd3QRetNbfuQ",
        "outputId": "f7429ce4-d06b-4fde-e2dd-45ddd7aee386"
      },
      "source": [
        "# 데이터 예시\n",
        "temp_df = pd.read_csv('BalancedNewsCorpusShuffled/BalancedNewsCorpus_test.csv', encoding='utf-8')\n",
        "temp_df.head(5)"
      ],
      "execution_count": null,
      "outputs": [
        {
          "output_type": "execute_result",
          "data": {
            "text/html": [
              "<div>\n",
              "<style scoped>\n",
              "    .dataframe tbody tr th:only-of-type {\n",
              "        vertical-align: middle;\n",
              "    }\n",
              "\n",
              "    .dataframe tbody tr th {\n",
              "        vertical-align: top;\n",
              "    }\n",
              "\n",
              "    .dataframe thead th {\n",
              "        text-align: right;\n",
              "    }\n",
              "</style>\n",
              "<table border=\"1\" class=\"dataframe\">\n",
              "  <thead>\n",
              "    <tr style=\"text-align: right;\">\n",
              "      <th></th>\n",
              "      <th>filename</th>\n",
              "      <th>date</th>\n",
              "      <th>NewsPaper</th>\n",
              "      <th>Topic</th>\n",
              "      <th>News</th>\n",
              "    </tr>\n",
              "  </thead>\n",
              "  <tbody>\n",
              "    <tr>\n",
              "      <th>0</th>\n",
              "      <td>NLRW1900000024</td>\n",
              "      <td>20120209</td>\n",
              "      <td>경기일보</td>\n",
              "      <td>IT/과학</td>\n",
              "      <td>&lt;p&gt; 인터넷 게임 족쇄에 도내 업체도 ‘덜덜’ &lt;/p&gt; &lt;p&gt; 道ㆍ업체 \"긍정적인...</td>\n",
              "    </tr>\n",
              "    <tr>\n",
              "      <th>1</th>\n",
              "      <td>NLRW1900000029</td>\n",
              "      <td>20171018</td>\n",
              "      <td>경기일보</td>\n",
              "      <td>IT/과학</td>\n",
              "      <td>&lt;p&gt; 삼성전자, UN에 삼성만의 특화된 생태 보전 활동 자랑하다생물다양성 보존활동...</td>\n",
              "    </tr>\n",
              "    <tr>\n",
              "      <th>2</th>\n",
              "      <td>NLRW1900000029</td>\n",
              "      <td>20170920</td>\n",
              "      <td>경기일보</td>\n",
              "      <td>IT/과학</td>\n",
              "      <td>&lt;p&gt; 지자체의 ‘카카오채널’, 도민들 관심 부족으로 폐쇄되거나 운영 부실 &lt;/p&gt;...</td>\n",
              "    </tr>\n",
              "    <tr>\n",
              "      <th>3</th>\n",
              "      <td>NLRW1900000025</td>\n",
              "      <td>20130218</td>\n",
              "      <td>경기일보</td>\n",
              "      <td>IT/과학</td>\n",
              "      <td>&lt;p&gt; 돈만 잡아먹는 홈페이지, 과감하게 ‘로그아웃’ &lt;/p&gt; &lt;p&gt; 경기도가 연간...</td>\n",
              "    </tr>\n",
              "    <tr>\n",
              "      <th>4</th>\n",
              "      <td>NLRW1900000028</td>\n",
              "      <td>20160314</td>\n",
              "      <td>경기일보</td>\n",
              "      <td>IT/과학</td>\n",
              "      <td>&lt;p&gt; 콘텐츠기업 대상 ‘부천 클러스터’ 입주사 모집 &lt;/p&gt; &lt;p&gt; 경기콘텐츠진흥...</td>\n",
              "    </tr>\n",
              "  </tbody>\n",
              "</table>\n",
              "</div>"
            ],
            "text/plain": [
              "         filename  ...                                               News\n",
              "0  NLRW1900000024  ...  <p> 인터넷 게임 족쇄에 도내 업체도 ‘덜덜’ </p> <p> 道ㆍ업체 \"긍정적인...\n",
              "1  NLRW1900000029  ...  <p> 삼성전자, UN에 삼성만의 특화된 생태 보전 활동 자랑하다생물다양성 보존활동...\n",
              "2  NLRW1900000029  ...  <p> 지자체의 ‘카카오채널’, 도민들 관심 부족으로 폐쇄되거나 운영 부실 </p>...\n",
              "3  NLRW1900000025  ...  <p> 돈만 잡아먹는 홈페이지, 과감하게 ‘로그아웃’ </p> <p> 경기도가 연간...\n",
              "4  NLRW1900000028  ...  <p> 콘텐츠기업 대상 ‘부천 클러스터’ 입주사 모집 </p> <p> 경기콘텐츠진흥...\n",
              "\n",
              "[5 rows x 5 columns]"
            ]
          },
          "metadata": {
            "tags": []
          },
          "execution_count": 13
        }
      ]
    },
    {
      "cell_type": "code",
      "metadata": {
        "colab": {
          "base_uri": "https://localhost:8080/"
        },
        "id": "7psYlMr9bfuR",
        "outputId": "09b6e7a0-e829-4b27-b129-97b173b28145"
      },
      "source": [
        "# torchtext 필드 선언\n",
        "# 필드: 데이터에 대해 앞으로 어떤 전처리를 할 것인지 정의하기 위한 도구\n",
        "TEXT = data.Field(preprocessing=tokenizer, include_lengths=True, batch_first=True, sequential=True)\n",
        "LABEL = data.LabelField(dtype=torch.long)\n",
        "\n",
        "data_fields = [(\"filename\", None), (\"date\", None), (\"NewsPaper\", None), ('Topic', LABEL), ('News', TEXT)]\n",
        "\n",
        "# 데이터 불러오기\n",
        "train_data, test_data = data.TabularDataset.splits(path ='BalancedNewsCorpusShuffled', \n",
        "                                                   train='BalancedNewsCorpus_train.csv',\n",
        "                                                   test='BalancedNewsCorpus_test.csv',\n",
        "                                                   format='csv',\n",
        "                                                   fields=data_fields,\n",
        "                                                   skip_header=True\n",
        "                                                  )"
      ],
      "execution_count": null,
      "outputs": [
        {
          "output_type": "stream",
          "text": [
            "/usr/local/lib/python3.7/dist-packages/ipykernel_launcher.py:12: FutureWarning: Possible set union at position 5\n",
            "  if sys.path[0] == '':\n"
          ],
          "name": "stderr"
        }
      ]
    },
    {
      "cell_type": "code",
      "metadata": {
        "colab": {
          "base_uri": "https://localhost:8080/"
        },
        "id": "wP3e5DwlbfuR",
        "outputId": "a8944b5f-3b3f-437a-8302-56bb26562427"
      },
      "source": [
        "print('NUMBER of TRAIN data:', len(train_data))\n",
        "print('NUMBER of TEST data:', len(test_data))"
      ],
      "execution_count": null,
      "outputs": [
        {
          "output_type": "stream",
          "text": [
            "NUMBER of TRAIN data: 9000\n",
            "NUMBER of TEST data: 1800\n"
          ],
          "name": "stdout"
        }
      ]
    },
    {
      "cell_type": "code",
      "metadata": {
        "id": "RUcySTjnbfuS"
      },
      "source": [
        "# 아래 분류 모델에서 사용할 수 있는 형태로 변환\n",
        "BATCH_SIZE = 64\n",
        "device = torch.device('cuda' if torch.cuda.is_available() else 'cpu')\n",
        "\n",
        "train_iterator, test_iterator = data.BucketIterator.splits((train_data, test_data), \n",
        "                                                           sort_key=lambda x: len(x.News),\n",
        "                                                          sort_within_batch=False,\n",
        "                                                           repeat=False,\n",
        "                                                          batch_size=BATCH_SIZE, \n",
        "                                                           device=device)"
      ],
      "execution_count": null,
      "outputs": []
    },
    {
      "cell_type": "markdown",
      "metadata": {
        "id": "vtR-1Q2pbfuS"
      },
      "source": [
        "### 토큰화된 기사 예시"
      ]
    },
    {
      "cell_type": "code",
      "metadata": {
        "colab": {
          "base_uri": "https://localhost:8080/"
        },
        "id": "6pN_M9iLbfuS",
        "outputId": "3422f51e-300d-4245-f5f4-105b57f7e5a3"
      },
      "source": [
        "# training data의 4번째 데이터 확인\n",
        "print(vars(train_data.examples[3]))"
      ],
      "execution_count": null,
      "outputs": [
        {
          "output_type": "stream",
          "text": [
            "{'Topic': '스포츠', 'News': ['모처럼', '살아난', '타점', '합작', '진입', '놓고', '혈전', '벌이', '있는', '와의', '나무', '다리', '결투', '먼저', '웃었다', '광주', '구장', '에서', '열린', '프로야구', '와의', '시즌', '차전서', '김상현', '최희섭', '홈런', '포함', '장단', '안타', '퍼부은', '선의', '활약', '입어', '으로', '완승', '연승', '달렸다', '시즌', '전적', '승리', '치고', '위로', '올라섰다', '두산', '꺾은', '롯데', '와는', '기차', '유지', '됐다', '지난', '시즌', '한국', '시리즈', '우승', '원동력', '하나', '였던', '김상현', '최희섭', '쌍포', '가동', '으로', '부활', '알렸다', '김상현', '지난달', '롯데', '복귀전', '홈런', '이후', '경기', '만에', '대포', '가동', '하는', '안타', '타점', '최희섭', '지난달', '롯데', '이후', '경기', '만에', '홈런', '신고', '하는', '안타', '타점', '기록', '둘이서', '타점', '합작', '하며', '승리', '이끌었다', '선발', '등판', '양현종', '이닝', '동안', '안타', '탈삼진', '실점', '으로', '시즌', '승패', '기록', '하며', '역시', '올린', '한화', '류현진', '함께', '동위', '자리', '지켰다', '통쾌한', '선제', '포로', '초반', '기선', '제압', '했다', '회말', '선두', '타자', '최희섭', '볼넷', '골라', '출루', '타석', '나선', '김상현', '상대', '선발', '김광삼', '슬라이더', '통타', '좌측', '담장', '넘기는', '투런아치호', '쏘아', '올리며', '선취', '안겼다', '하지만', '리드', '잠시', '회초', '볼넷', '실책', '으로', '내준', '이택근', '스리', '홈런', '호을', '허용', '역전', '당했다', '순식간', '리드', '뺏긴', '회말', '이용규', '볼넷', '출루', '도루', '성공', '신종길', '루타', '득점', '찬스', '만들었고', '상황', '최희섭', '땅볼', '이용규', '밟아', '승부', '원점', '으로', '되돌렸다', '계속', '찬스', '김상현', '좌전', '적시타', '때려', '다시', '승부', '뒤집었다', '회말', '사후', '최희섭', '솔로', '포호', '회말', '이용규', '타점', '적시타', '점수', '으로', '벌렸고', '회말', '만루', '안치홍', '퀴즈', '번트', '성공', '으로', '보태', '면서', '승부', '쐐기', '박았다', '회말', '에도', '사후', '최희섭', '타점', '루타', '이현곤', '타점', '적시타', '김상훈', '타점', '적시타', '으로', '대거', '득점', '하면서', '승부', '결정', '지었다']}\n"
          ],
          "name": "stdout"
        }
      ]
    },
    {
      "cell_type": "markdown",
      "metadata": {
        "id": "2KrPK7APbfuT"
      },
      "source": [
        "### 데이터 본문을 이루는 단어들로 사전 구성"
      ]
    },
    {
      "cell_type": "code",
      "metadata": {
        "id": "HLpFfjVwbfuT"
      },
      "source": [
        "MAX_VOCAB_SIZE = 25_000\n",
        "\n",
        "# 본문 사전 구성\n",
        "TEXT.build_vocab(train_data, max_size = MAX_VOCAB_SIZE)\n",
        "\n",
        "# label (뉴스 기사 범주) 사전 구성\n",
        "LABEL.build_vocab(train_data)"
      ],
      "execution_count": null,
      "outputs": []
    },
    {
      "cell_type": "code",
      "metadata": {
        "colab": {
          "base_uri": "https://localhost:8080/"
        },
        "id": "aUd3WQWFbfuT",
        "outputId": "168d2a10-d874-4a0d-844e-73b449508417"
      },
      "source": [
        "print(TEXT.vocab.itos[:10])"
      ],
      "execution_count": null,
      "outputs": [
        {
          "output_type": "stream",
          "text": [
            "['<unk>', '<pad>', '으로', '했다', '에서', '하는', '이다', '있다', '하고', '있는']\n"
          ],
          "name": "stdout"
        }
      ]
    },
    {
      "cell_type": "code",
      "metadata": {
        "colab": {
          "base_uri": "https://localhost:8080/"
        },
        "id": "O_CyEbzVbfuT",
        "outputId": "035d624f-d779-411b-92ad-3a4a3ff2d324"
      },
      "source": [
        "print(LABEL.vocab.stoi)"
      ],
      "execution_count": null,
      "outputs": [
        {
          "output_type": "stream",
          "text": [
            "defaultdict(None, {'IT/과학': 0, '경제': 1, '문화': 2, '미용/건강': 3, '사회': 4, '생활': 5, '스포츠': 6, '연예': 7, '정치': 8})\n"
          ],
          "name": "stdout"
        }
      ]
    },
    {
      "cell_type": "markdown",
      "metadata": {
        "id": "jhWCgFuFbfuU"
      },
      "source": [
        "## 4. 사전학습된 임베딩 모델 불러오기\n",
        "### FastText 형태소 모델 사용"
      ]
    },
    {
      "cell_type": "code",
      "metadata": {
        "id": "h24jxkTNbfuU"
      },
      "source": [
        "# 미리 저장해 둔 FastText 모델 불러오기\n",
        "# FastText 모델 다운로드 -> colab 런타임에 업로드\n",
        "from gensim.models.keyedvectors import KeyedVectors\n",
        "fasttext_model = KeyedVectors.load_word2vec_format('fasttext_morph_300.model', binary=False, encoding='utf-8')"
      ],
      "execution_count": null,
      "outputs": []
    },
    {
      "cell_type": "code",
      "metadata": {
        "colab": {
          "base_uri": "https://localhost:8080/"
        },
        "id": "L0UfXGGLbfuU",
        "outputId": "a39114dc-0838-4653-db48-bf2b57fa4fdd"
      },
      "source": [
        "i = 0\n",
        "w2vec = []\n",
        "# 위에서 구성한 본문 사전에 있는 단어들에 FastText 임베딩을 매칭시키는 과정\n",
        "for token, idx in TEXT.vocab.stoi.items():\n",
        "    # if token in fasttext_model.key_to_index.keys():  \n",
        "    if token in fasttext_model.vocab.keys():  # gensim 3.x까지는 fasttext_model.vocab.keys()\n",
        "        w2vec.append(fasttext_model[token])  \n",
        "        i+=1\n",
        "    else:\n",
        "        # 단어가 FastText 임베딩 모델에 없는 단어일 경우 랜덤한 300개의 숫자로 임베딩을 구성\n",
        "        w2vec.append(0.01*np.random.randn(300))\n",
        "\n",
        "pretrained_embeddings = torch.FloatTensor(w2vec)\n",
        "print('Total NUMBER of VOCABS:', i)"
      ],
      "execution_count": null,
      "outputs": [
        {
          "output_type": "stream",
          "text": [
            "Total NUMBER of VOCABS: 14356\n"
          ],
          "name": "stdout"
        }
      ]
    },
    {
      "cell_type": "code",
      "metadata": {
        "colab": {
          "base_uri": "https://localhost:8080/"
        },
        "id": "ok6TIMnobfuU",
        "outputId": "d2390953-930f-48e9-92c4-18c3f9417102"
      },
      "source": [
        "# 위에서 설정한 25,000개의 단어와 <pad>, <unk>를 합하여 25,002개의 단어의 임베딩을 얻음\n",
        "print(pretrained_embeddings.shape)"
      ],
      "execution_count": null,
      "outputs": [
        {
          "output_type": "stream",
          "text": [
            "torch.Size([25002, 300])\n"
          ],
          "name": "stdout"
        }
      ]
    },
    {
      "cell_type": "markdown",
      "metadata": {
        "id": "Q8k9NqP6bfuV"
      },
      "source": [
        "## 5. 기사 분류 모델 구축하기\n",
        "### 5.1. RNN 모델 사용 "
      ]
    },
    {
      "cell_type": "code",
      "metadata": {
        "id": "kwRwMKD2bfuV"
      },
      "source": [
        "class RNN(nn.Module):\n",
        "    def __init__(self, vocab_size, embedding_dim, hidden_dim, output_dim, n_layers, bidirectional, dropout, pad_idx):\n",
        "        \n",
        "        super().__init__()\n",
        "        \n",
        "        self.embedding = nn.Embedding(vocab_size, embedding_dim)\n",
        "        \n",
        "        self.rnn = nn.LSTM(embedding_dim, hidden_dim, num_layers=n_layers, bidirectional=bidirectional, \n",
        "                           dropout=dropout, batch_first=True)\n",
        "\n",
        "        self.fc = nn.Linear(hidden_dim * 2, output_dim)\n",
        "        \n",
        "        self.dropout = nn.Dropout(dropout)\n",
        "        \n",
        "    def forward(self, text):\n",
        "        \n",
        "        embedded = self.dropout(self.embedding(text))\n",
        "\n",
        "        output, (hidden, cell) = self.rnn(embedded)\n",
        "        \n",
        "        hidden = self.dropout(torch.cat((hidden[-2,:,:], hidden[-1,:,:]), dim = 1))\n",
        "                \n",
        "        return self.fc(hidden)"
      ],
      "execution_count": null,
      "outputs": []
    },
    {
      "cell_type": "code",
      "metadata": {
        "colab": {
          "base_uri": "https://localhost:8080/"
        },
        "id": "Gt2WXW52bfuV",
        "outputId": "dcc14264-c8e9-48b6-8493-149ef45bad49"
      },
      "source": [
        "# Model hyper-parameters\n",
        "\n",
        "INPUT_DIM = len(TEXT.vocab)\n",
        "EMBEDDING_DIM = 300\n",
        "HIDDEN_DIM = 256\n",
        "OUTPUT_DIM = 9  # 정답 범주(label)의 개수\n",
        "N_LAYERS = 1 \n",
        "BIDIRECTIONAL = True\n",
        "DROPOUT = 0.5\n",
        "PAD_IDX = TEXT.vocab.stoi[TEXT.pad_token]\n",
        "\n",
        "model_rnn = RNN(INPUT_DIM, EMBEDDING_DIM, HIDDEN_DIM, OUTPUT_DIM, N_LAYERS, BIDIRECTIONAL, DROPOUT, PAD_IDX)"
      ],
      "execution_count": null,
      "outputs": [
        {
          "output_type": "stream",
          "text": [
            "/usr/local/lib/python3.7/dist-packages/torch/nn/modules/rnn.py:63: UserWarning: dropout option adds dropout after all but last recurrent layer, so non-zero dropout expects num_layers greater than 1, but got dropout=0.5 and num_layers=1\n",
            "  \"num_layers={}\".format(dropout, num_layers))\n"
          ],
          "name": "stderr"
        }
      ]
    },
    {
      "cell_type": "markdown",
      "metadata": {
        "id": "lS_h37eqbfuV"
      },
      "source": [
        "### 위 4에서 구성한 단어 임베딩을 RNN 모델에 결합"
      ]
    },
    {
      "cell_type": "code",
      "metadata": {
        "colab": {
          "base_uri": "https://localhost:8080/"
        },
        "id": "Rli7mavTbfuW",
        "outputId": "96341c8c-b5c4-47a1-f686-7848848d6d56"
      },
      "source": [
        "model_rnn.embedding.weight.data.copy_(pretrained_embeddings)"
      ],
      "execution_count": null,
      "outputs": [
        {
          "output_type": "execute_result",
          "data": {
            "text/plain": [
              "tensor([[-8.3752e-04,  9.9318e-03, -3.0366e-03,  ..., -1.2378e-02,\n",
              "          4.2520e-03, -1.1243e-02],\n",
              "        [-2.4911e-02,  1.9219e-02,  2.2654e-02,  ..., -6.7820e-04,\n",
              "          8.6682e-03, -4.9253e-03],\n",
              "        [-3.5333e-01, -1.3169e+00,  8.0137e-01,  ...,  2.7663e-01,\n",
              "         -4.8837e-01, -1.1233e-02],\n",
              "        ...,\n",
              "        [ 3.6000e-03,  1.0463e-05, -2.8822e-03,  ..., -5.0827e-03,\n",
              "          4.1577e-04, -1.6127e-03],\n",
              "        [ 6.4252e-03, -2.4886e-02,  1.4063e-02,  ...,  6.7811e-03,\n",
              "         -7.0167e-03,  1.5517e-02],\n",
              "        [ 7.9713e-04,  8.1465e-03, -6.4202e-03,  ...,  1.0091e-02,\n",
              "          4.5842e-03, -6.0374e-03]])"
            ]
          },
          "metadata": {
            "tags": []
          },
          "execution_count": 28
        }
      ]
    },
    {
      "cell_type": "code",
      "metadata": {
        "id": "XqwKgngabfuW"
      },
      "source": [
        "# UNK, PAD 토큰 처리 (zero vector로 초기화)\n",
        "\n",
        "UNK_IDX = TEXT.vocab.stoi[TEXT.unk_token]\n",
        "\n",
        "model_rnn.embedding.weight.data[UNK_IDX] = torch.zeros(EMBEDDING_DIM)\n",
        "model_rnn.embedding.weight.data[PAD_IDX] = torch.zeros(EMBEDDING_DIM)"
      ],
      "execution_count": null,
      "outputs": []
    },
    {
      "cell_type": "code",
      "metadata": {
        "colab": {
          "base_uri": "https://localhost:8080/"
        },
        "id": "jlBFlxl-bfuW",
        "outputId": "c0d54910-52ec-4e2e-a67a-069c879b5516"
      },
      "source": [
        "# 분류 모델이 학습하는 패러미터의 수\n",
        "\n",
        "def count_parameters(model):\n",
        "    return sum(p.numel() for p in model.parameters() if p.requires_grad)\n",
        "\n",
        "print(f'The model has {count_parameters(model_rnn):,} trainable parameters')"
      ],
      "execution_count": null,
      "outputs": [
        {
          "output_type": "stream",
          "text": [
            "The model has 8,648,001 trainable parameters\n"
          ],
          "name": "stdout"
        }
      ]
    },
    {
      "cell_type": "markdown",
      "metadata": {
        "id": "hTJX5LDmbfuW"
      },
      "source": [
        "### 분류 모델 학습, 평가하기"
      ]
    },
    {
      "cell_type": "code",
      "metadata": {
        "colab": {
          "base_uri": "https://localhost:8080/"
        },
        "id": "qsqL8ezUbfuW",
        "outputId": "894c3a16-c0ec-4dbc-d5dd-ad4ecfba5285"
      },
      "source": [
        "# 학습의 속도, 안정성 등을 최적화하기 위한 optimizer 설정\n",
        "optimizer = optim.Adam(model_rnn.parameters())\n",
        "\n",
        "# GPU가 있다면 GPU에서 모델 학습 및 평가 \n",
        "device = torch.device('cuda' if torch.cuda.is_available() else 'cpu')\n",
        "print(device)\n",
        "\n",
        "# 모델의 성능을 평가하기 위해 cross entropy loss 사용\n",
        "criterion = nn.CrossEntropyLoss()\n",
        "\n",
        "# 분류 모델과 loss 모델을 GPU(또는 CPU)에 세팅\n",
        "model_rnn = model_rnn.to(device)\n",
        "criterion = criterion.to(device)"
      ],
      "execution_count": null,
      "outputs": [
        {
          "output_type": "stream",
          "text": [
            "cuda\n"
          ],
          "name": "stdout"
        }
      ]
    },
    {
      "cell_type": "code",
      "metadata": {
        "id": "yYEjsvW4bfuX"
      },
      "source": [
        "# 모델 학습을 위한 함수\n",
        "def train(model, iterator, optimizer, criterion):\n",
        "    \n",
        "    epoch_loss = 0\n",
        "    epoch_acc = 0\n",
        "    total = 0\n",
        "    \n",
        "    model.train()\n",
        "    \n",
        "    for batch in iterator:\n",
        "        \n",
        "        optimizer.zero_grad()\n",
        "        batch.News = batch.News[0].cuda()\n",
        "        batch.Topic = batch.Topic.cuda()\n",
        "        \n",
        "        predictions = model(batch.News).squeeze(1)\n",
        "        \n",
        "        loss = criterion(predictions, batch.Topic)\n",
        "\n",
        "        _, predicted = torch.max(predictions.data, 1)\n",
        "        \n",
        "        loss.backward()\n",
        "        \n",
        "        optimizer.step()\n",
        "        \n",
        "        epoch_loss += loss.item()\n",
        "        total += batch.Topic.size(0)\n",
        "        epoch_acc += (predicted == batch.Topic).sum().item()\n",
        "        \n",
        "    return epoch_loss, epoch_acc / total"
      ],
      "execution_count": null,
      "outputs": []
    },
    {
      "cell_type": "code",
      "metadata": {
        "id": "UEaM8O93bfuX"
      },
      "source": [
        "# 모델 평가를 위한 함수\n",
        "def evaluate(model, iterator, criterion):\n",
        "    \n",
        "    epoch_loss = 0\n",
        "    epoch_acc = 0\n",
        "    total = 0\n",
        "    \n",
        "    model.eval()\n",
        "\n",
        "    with torch.no_grad():\n",
        "        for batch in iterator:\n",
        "            batch.News = batch.News[0].cuda()\n",
        "            batch.Topic = batch.Topic.cuda()\n",
        "            predictions = model(batch.News).squeeze(1)\n",
        "            \n",
        "            loss = criterion(predictions, batch.Topic)\n",
        "            \n",
        "            _, predicted = torch.max(predictions.data, 1)\n",
        "\n",
        "            epoch_loss += loss.item()\n",
        "            total += batch.Topic.size(0)\n",
        "            epoch_acc += (predicted == batch.Topic).sum().item()\n",
        "        \n",
        "    return epoch_loss, epoch_acc / total"
      ],
      "execution_count": null,
      "outputs": []
    },
    {
      "cell_type": "code",
      "metadata": {
        "id": "kPRTdUtRbfuX"
      },
      "source": [
        "import time\n",
        "\n",
        "def epoch_time(start_time, end_time):\n",
        "    elapsed_time = end_time - start_time\n",
        "    elapsed_mins = int(elapsed_time / 60)\n",
        "    elapsed_secs = int(elapsed_time - (elapsed_mins * 60))\n",
        "    return elapsed_mins, elapsed_secs"
      ],
      "execution_count": null,
      "outputs": []
    },
    {
      "cell_type": "code",
      "metadata": {
        "colab": {
          "base_uri": "https://localhost:8080/"
        },
        "id": "iyHmCtHIbfuX",
        "outputId": "9a41143b-f1aa-4384-fc16-be9f71321f39"
      },
      "source": [
        "N_EPOCHS = 20\n",
        "\n",
        "best_test_loss = float('inf')\n",
        "best_test_acc = 0\n",
        "\n",
        "train_loss = [0 for i in range(N_EPOCHS)]\n",
        "train_acc =[0 for i in range(N_EPOCHS)]\n",
        "test_loss = [0 for i in range(N_EPOCHS)]\n",
        "test_acc = [0 for i in range(N_EPOCHS)]\n",
        "\n",
        "i = 0\n",
        "\n",
        "for epoch in range(N_EPOCHS):\n",
        "\n",
        "    start_time = time.time()\n",
        "\n",
        "    # training data를 이용해 모델 학습\n",
        "    train_loss[i], train_acc[i] = train(model_rnn, train_iterator, optimizer, criterion)\n",
        "    # test data를 이용해 모델 평가\n",
        "    test_loss[i], test_acc[i] = evaluate(model_rnn, test_iterator, criterion)\n",
        "    \n",
        "    end_time = time.time()\n",
        "\n",
        "    epoch_mins, epoch_secs = epoch_time(start_time, end_time)\n",
        "    \n",
        "    # 모델 평가: 각 epoch에서 얻은 최고 성능을 저장\n",
        "    if test_loss[i] < best_test_loss:\n",
        "        best_test_loss = test_loss[i]\n",
        "    \n",
        "    if test_acc[i] > best_test_acc:\n",
        "        best_test_acc = test_acc[i]\n",
        "    \n",
        "    print(f'Epoch: {epoch+1:02} | Epoch Time: {epoch_mins}m {epoch_secs}s')\n",
        "    print(f'\\tTrain Loss: {train_loss[i]:.3f} | Train Acc: {train_acc[i]*100:.2f}%')\n",
        "    print(f'\\t Test Loss: {test_loss[i]:.3f} |  Test Acc: {test_acc[i]*100:.2f}%')\n",
        "\n",
        "    i+=1"
      ],
      "execution_count": null,
      "outputs": [
        {
          "output_type": "stream",
          "text": [
            "Epoch: 01 | Epoch Time: 0m 9s\n",
            "\tTrain Loss: 204.522 | Train Acc: 51.32%\n",
            "\t Test Loss: 64.635 |  Test Acc: 36.89%\n",
            "Epoch: 02 | Epoch Time: 0m 9s\n",
            "\tTrain Loss: 160.049 | Train Acc: 62.54%\n",
            "\t Test Loss: 43.754 |  Test Acc: 58.33%\n",
            "Epoch: 03 | Epoch Time: 0m 9s\n",
            "\tTrain Loss: 133.125 | Train Acc: 69.19%\n",
            "\t Test Loss: 44.340 |  Test Acc: 56.83%\n",
            "Epoch: 04 | Epoch Time: 0m 9s\n",
            "\tTrain Loss: 96.321 | Train Acc: 77.51%\n",
            "\t Test Loss: 47.827 |  Test Acc: 61.83%\n",
            "Epoch: 05 | Epoch Time: 0m 9s\n",
            "\tTrain Loss: 100.906 | Train Acc: 76.14%\n",
            "\t Test Loss: 58.159 |  Test Acc: 46.83%\n",
            "Epoch: 06 | Epoch Time: 0m 9s\n",
            "\tTrain Loss: 75.854 | Train Acc: 82.07%\n",
            "\t Test Loss: 54.981 |  Test Acc: 51.89%\n",
            "Epoch: 07 | Epoch Time: 0m 9s\n",
            "\tTrain Loss: 61.659 | Train Acc: 85.59%\n",
            "\t Test Loss: 52.356 |  Test Acc: 54.44%\n",
            "Epoch: 08 | Epoch Time: 0m 9s\n",
            "\tTrain Loss: 51.714 | Train Acc: 88.13%\n",
            "\t Test Loss: 51.010 |  Test Acc: 56.06%\n",
            "Epoch: 09 | Epoch Time: 0m 9s\n",
            "\tTrain Loss: 42.168 | Train Acc: 90.73%\n",
            "\t Test Loss: 49.790 |  Test Acc: 61.28%\n",
            "Epoch: 10 | Epoch Time: 0m 9s\n",
            "\tTrain Loss: 34.393 | Train Acc: 92.24%\n",
            "\t Test Loss: 55.262 |  Test Acc: 57.11%\n",
            "Epoch: 11 | Epoch Time: 0m 9s\n",
            "\tTrain Loss: 28.061 | Train Acc: 93.83%\n",
            "\t Test Loss: 52.292 |  Test Acc: 59.56%\n",
            "Epoch: 12 | Epoch Time: 0m 9s\n",
            "\tTrain Loss: 23.685 | Train Acc: 94.92%\n",
            "\t Test Loss: 54.905 |  Test Acc: 60.56%\n",
            "Epoch: 13 | Epoch Time: 0m 9s\n",
            "\tTrain Loss: 19.593 | Train Acc: 95.73%\n",
            "\t Test Loss: 55.607 |  Test Acc: 59.67%\n",
            "Epoch: 14 | Epoch Time: 0m 9s\n",
            "\tTrain Loss: 16.201 | Train Acc: 96.42%\n",
            "\t Test Loss: 54.526 |  Test Acc: 60.00%\n",
            "Epoch: 15 | Epoch Time: 0m 10s\n",
            "\tTrain Loss: 12.024 | Train Acc: 97.38%\n",
            "\t Test Loss: 54.680 |  Test Acc: 63.44%\n",
            "Epoch: 16 | Epoch Time: 0m 10s\n",
            "\tTrain Loss: 12.705 | Train Acc: 97.10%\n",
            "\t Test Loss: 61.723 |  Test Acc: 60.44%\n",
            "Epoch: 17 | Epoch Time: 0m 10s\n",
            "\tTrain Loss: 9.106 | Train Acc: 98.14%\n",
            "\t Test Loss: 55.383 |  Test Acc: 63.89%\n",
            "Epoch: 18 | Epoch Time: 0m 10s\n",
            "\tTrain Loss: 7.790 | Train Acc: 98.33%\n",
            "\t Test Loss: 61.762 |  Test Acc: 64.39%\n",
            "Epoch: 19 | Epoch Time: 0m 10s\n",
            "\tTrain Loss: 6.271 | Train Acc: 98.60%\n",
            "\t Test Loss: 71.202 |  Test Acc: 63.11%\n",
            "Epoch: 20 | Epoch Time: 0m 10s\n",
            "\tTrain Loss: 5.995 | Train Acc: 98.67%\n",
            "\t Test Loss: 64.438 |  Test Acc: 63.00%\n"
          ],
          "name": "stdout"
        }
      ]
    },
    {
      "cell_type": "code",
      "metadata": {
        "id": "4neykcXDbfuY"
      },
      "source": [
        "rnn_results = [test_loss, train_loss, test_acc, train_acc]"
      ],
      "execution_count": null,
      "outputs": []
    },
    {
      "cell_type": "code",
      "metadata": {
        "colab": {
          "base_uri": "https://localhost:8080/",
          "height": 668
        },
        "id": "aRTLKEM6bfuY",
        "outputId": "7e5d2aa7-d9a9-4e5a-a7fb-7d45c108b20b"
      },
      "source": [
        "import matplotlib.pyplot as plt\n",
        "\n",
        "def P_graph(test_loss, train_loss, test_acc, train_acc):\n",
        "    plt.figure(figsize=(10, 5))\n",
        "    x = range(1,N_EPOCHS+1)\n",
        "    y_te = test_loss\n",
        "    plt.plot(x,y_te,marker='o',label='Test Loss')\n",
        "    y_tr = train_loss\n",
        "    plt.plot(x,y_tr,marker='o',label='Train Loss')\n",
        "    plt.xlabel(\"EPOCHS\")\n",
        "    plt.ylabel(\"Loss\")\n",
        "    plt.legend()\n",
        "    plt.grid(True)\n",
        "    plt.show()   \n",
        "    \n",
        "    plt.figure(figsize=(10, 5))\n",
        "    x = range(1,N_EPOCHS+1)\n",
        "    y_te = test_acc\n",
        "    plt.plot(x,y_te,marker='o',label='Test Acc.')\n",
        "    y_tr = train_acc\n",
        "    plt.plot(x,y_tr,marker='o',label='Train Acc.')\n",
        "    plt.xlabel(\"EPOCHS\")\n",
        "    plt.ylabel(\"Accuracy\")\n",
        "    plt.legend()\n",
        "    plt.grid(True)\n",
        "    plt.show()\n",
        "\n",
        "P_graph(rnn_results[0], rnn_results[1], rnn_results[2], rnn_results[3])\n",
        "print(f'Best Test Acc: {best_test_acc*100:.2f}%    (Test Loss: {best_test_loss:.3f})')"
      ],
      "execution_count": null,
      "outputs": [
        {
          "output_type": "display_data",
          "data": {
            "image/png": "[encoded data removed]",
            "text/plain": [
              "<Figure size 720x360 with 1 Axes>"
            ]
          },
          "metadata": {
            "tags": [],
            "needs_background": "light"
          }
        },
        {
          "output_type": "display_data",
          "data": {
            "image/png": "[encoded data removed]",
            "text/plain": [
              "<Figure size 720x360 with 1 Axes>"
            ]
          },
          "metadata": {
            "tags": [],
            "needs_background": "light"
          }
        },
        {
          "output_type": "stream",
          "text": [
            "Best Test Acc: 64.39%    (Test Loss: 43.754)\n"
          ],
          "name": "stdout"
        }
      ]
    },
    {
      "cell_type": "markdown",
      "metadata": {
        "id": "1xyFL-rjbfuZ"
      },
      "source": [
        "### 분류 모델 테스트"
      ]
    },
    {
      "cell_type": "code",
      "metadata": {
        "id": "ES6vN83pbfuZ"
      },
      "source": [
        "def predict_news(model, sentence, min_len=5):\n",
        "    model.eval()\n",
        "\n",
        "    tokenized = [tok for tok in tokenizer(sentence.split())]\n",
        "    \n",
        "    if len(tokenized) < min_len:\n",
        "      tokenized += ['<pad>'] * (min_len - len(tokenized))\n",
        "\n",
        "    indexed = [TEXT.vocab.stoi[t] for t in tokenized]\n",
        "    tensor = torch.LongTensor(indexed).unsqueeze(0).to(device)\n",
        "    prediction = torch.sigmoid(model(tensor))\n",
        "    out = torch.mean(prediction, 0)\n",
        "    news_label = torch.max(out, 0)\n",
        "    \n",
        "    return {'Predicted Label': LABEL.vocab.itos[int(news_label.indices)], 'Sentence': sentence}"
      ],
      "execution_count": null,
      "outputs": []
    },
    {
      "cell_type": "code",
      "metadata": {
        "colab": {
          "base_uri": "https://localhost:8080/"
        },
        "id": "p7Y6iFYabfuZ",
        "outputId": "af593eee-ff79-4a48-e5a3-491d8d992660"
      },
      "source": [
        "sentence = []\n",
        "sentence.append(\"차진 식감과 부드러운 감촉을 모두 지닌 식빵, 결결이 찢어지는 크루아상, 둥글고 크게 구운 호밀빵 모두 모양새부터 알차고 단단했다. 디저트로 눈을 옮기면 국가 대표팀같이 뭐 하나 빼놓을 수 없는 케이크가 나란히 줄을 서 있었다.\")\n",
        "sentence.append(\"정부는 2012년 예산의 공고안과 배정계획을 1월3일 국무회의에서 의결하고 연초부터 바로 집행에 들어간다. 세계 경제의 불확실성이 높아지고 경기가 둔화할 가능성이 높은 만큼 조기 집행에 박차를 가할 예정이다\")\n",
        "sentence.append(\"국세청은 특히 서민생활에 피해를 주면서 폭리를 취하는 매점매석 농수산물 유통업체 등에 대한 추적조사를 강화하고, 지방청에 ‘민생침해 사업자 조사전담팀’을 꾸려 민생침해 탈세자에 대한 엄정 대응에 나설 계획이라고 밝혔다\")\n",
        "sentence.append(\"26일 제25회 부산국제영화제 갈라 프레젠테이션 부문 초청작 '스파이의 아내' 온라인 기자회견이 진행됐다. 작품을 연출한 구로사와 감독이 참석해 작품에 대한 이야기를 나눴다.\")\n",
        "sentence.append(\"70대 운전사가 몰던 25인승 어린이 통학버스가 주유소로 돌진해 차량 3대를 들이 받았다. 다행히 통학버스에 운전자 외에는 탑승자가 없어 큰 인명피해는 피했다. 운전자는 차량 결함을 주장하고 있으나, 경찰은 운전자 과실 여부도 조사 중이다.\")\n",
        "sentence.append(\"토트넘이 손흥민에게 주급 20만 파운드(약 3억원)-5년 재계약을 제안할 준비를 마쳤다.' 25일(한국시각) 영국 대중일간 더선의 헤드라인이다. 조제 무리뉴 토트넘 감독이 번리전을 앞두고 기자회견을 통해 구단에 토트넘에서의 손흥민의 장밋빛 미래를 확신하며 재계약을 요청한 직후 영국 현지 언론에선 손흥민 재계약 보도가 쏟아지고 있다.\")\n",
        "sentence.append(\"공연은 말 그대로 다채로움 그 자체였다. 발레극인지, 현대무용극인지, 전통극인지, 연극인지, 연극이면 다인극인지 1인극인지 모를 정도로 다양한 장르의 결합이 먼저 눈에 띈다.\")\n",
        "sentence.append(\"발이 아프면 걷는 자세가 나빠지고 자연스럽게 무릎, 골반, 허리에 이상이 생길 수 있다. 이를 예방하려면 평소 발바닥 근육을 스트레칭하고 강화하는 운동을 지속하는 게 중요하다.\")\n",
        "sentence.append(\"전기차 화재 사고가 연이어 발생하는 가운데 불타지 않는 SK이노베이션 배터리가 주목받는다. SK이노베이션의 배터리는 글로벌 배터리 업체 중 유일하게 단 한건의 화재도 일어나지 않았다. 이같은 비결이 자동차 안정성을 결정짓는 분리막 내재화에 있다는 평가가 나온다.\")\n",
        "\n",
        "raw_data = {'Labels': ['생활','정치','경제','문화','사회','스포츠','연예','미용/건강','IT/과학']}\n",
        "\n",
        "print(predict_news(model_rnn, sentence[0]))\n",
        "print(predict_news(model_rnn, sentence[1]))\n",
        "print(predict_news(model_rnn, sentence[2]))\n"
      ],
      "execution_count": null,
      "outputs": [
        {
          "output_type": "stream",
          "text": [
            "{'Predicted Label': '생활', 'Sentence': '차진 식감과 부드러운 감촉을 모두 지닌 식빵, 결결이 찢어지는 크루아상, 둥글고 크게 구운 호밀빵 모두 모양새부터 알차고 단단했다. 디저트로 눈을 옮기면 국가 대표팀같이 뭐 하나 빼놓을 수 없는 케이크가 나란히 줄을 서 있었다.'}\n",
            "{'Predicted Label': '경제', 'Sentence': '정부는 2012년 예산의 공고안과 배정계획을 1월3일 국무회의에서 의결하고 연초부터 바로 집행에 들어간다. 세계 경제의 불확실성이 높아지고 경기가 둔화할 가능성이 높은 만큼 조기 집행에 박차를 가할 예정이다'}\n",
            "{'Predicted Label': '사회', 'Sentence': '국세청은 특히 서민생활에 피해를 주면서 폭리를 취하는 매점매석 농수산물 유통업체 등에 대한 추적조사를 강화하고, 지방청에 ‘민생침해 사업자 조사전담팀’을 꾸려 민생침해 탈세자에 대한 엄정 대응에 나설 계획이라고 밝혔다'}\n"
          ],
          "name": "stdout"
        }
      ]
    },
    {
      "cell_type": "code",
      "metadata": {
        "colab": {
          "base_uri": "https://localhost:8080/",
          "height": 345
        },
        "id": "vktSc9qlbfuZ",
        "outputId": "26fc5bc1-7032-49cf-b4dd-87f2dd4b8d9d"
      },
      "source": [
        "# 위의 결과를 표(DataFrame)로 나타내기\n",
        "\n",
        "result = pd.DataFrame(raw_data)\n",
        "\n",
        "df = pd.DataFrame()\n",
        "for s in sentence:\n",
        "  df = df.append(predict_news(model_rnn, s), ignore_index=True)\n",
        "\n",
        "result = pd.concat([result,df],axis=1, join='inner')\n",
        "\n",
        "Accuracy = sum((result['Labels'] == result['Predicted Label'])==True)/len(result) * 100\n",
        "\n",
        "print(\"Accuracy = \",round(Accuracy,2),\"%\")\n",
        "\n",
        "result"
      ],
      "execution_count": null,
      "outputs": [
        {
          "output_type": "stream",
          "text": [
            "Accuracy =  44.44 %\n"
          ],
          "name": "stdout"
        },
        {
          "output_type": "execute_result",
          "data": {
            "text/html": [
              "<div>\n",
              "<style scoped>\n",
              "    .dataframe tbody tr th:only-of-type {\n",
              "        vertical-align: middle;\n",
              "    }\n",
              "\n",
              "    .dataframe tbody tr th {\n",
              "        vertical-align: top;\n",
              "    }\n",
              "\n",
              "    .dataframe thead th {\n",
              "        text-align: right;\n",
              "    }\n",
              "</style>\n",
              "<table border=\"1\" class=\"dataframe\">\n",
              "  <thead>\n",
              "    <tr style=\"text-align: right;\">\n",
              "      <th></th>\n",
              "      <th>Labels</th>\n",
              "      <th>Predicted Label</th>\n",
              "      <th>Sentence</th>\n",
              "    </tr>\n",
              "  </thead>\n",
              "  <tbody>\n",
              "    <tr>\n",
              "      <th>0</th>\n",
              "      <td>생활</td>\n",
              "      <td>생활</td>\n",
              "      <td>차진 식감과 부드러운 감촉을 모두 지닌 식빵, 결결이 찢어지는 크루아상, 둥글고 크...</td>\n",
              "    </tr>\n",
              "    <tr>\n",
              "      <th>1</th>\n",
              "      <td>정치</td>\n",
              "      <td>경제</td>\n",
              "      <td>정부는 2012년 예산의 공고안과 배정계획을 1월3일 국무회의에서 의결하고 연초부터...</td>\n",
              "    </tr>\n",
              "    <tr>\n",
              "      <th>2</th>\n",
              "      <td>경제</td>\n",
              "      <td>사회</td>\n",
              "      <td>국세청은 특히 서민생활에 피해를 주면서 폭리를 취하는 매점매석 농수산물 유통업체 등...</td>\n",
              "    </tr>\n",
              "    <tr>\n",
              "      <th>3</th>\n",
              "      <td>문화</td>\n",
              "      <td>문화</td>\n",
              "      <td>26일 제25회 부산국제영화제 갈라 프레젠테이션 부문 초청작 '스파이의 아내' 온라...</td>\n",
              "    </tr>\n",
              "    <tr>\n",
              "      <th>4</th>\n",
              "      <td>사회</td>\n",
              "      <td>생활</td>\n",
              "      <td>70대 운전사가 몰던 25인승 어린이 통학버스가 주유소로 돌진해 차량 3대를 들이 ...</td>\n",
              "    </tr>\n",
              "    <tr>\n",
              "      <th>5</th>\n",
              "      <td>스포츠</td>\n",
              "      <td>스포츠</td>\n",
              "      <td>토트넘이 손흥민에게 주급 20만 파운드(약 3억원)-5년 재계약을 제안할 준비를 마...</td>\n",
              "    </tr>\n",
              "    <tr>\n",
              "      <th>6</th>\n",
              "      <td>연예</td>\n",
              "      <td>문화</td>\n",
              "      <td>공연은 말 그대로 다채로움 그 자체였다. 발레극인지, 현대무용극인지, 전통극인지, ...</td>\n",
              "    </tr>\n",
              "    <tr>\n",
              "      <th>7</th>\n",
              "      <td>미용/건강</td>\n",
              "      <td>미용/건강</td>\n",
              "      <td>발이 아프면 걷는 자세가 나빠지고 자연스럽게 무릎, 골반, 허리에 이상이 생길 수 ...</td>\n",
              "    </tr>\n",
              "    <tr>\n",
              "      <th>8</th>\n",
              "      <td>IT/과학</td>\n",
              "      <td>경제</td>\n",
              "      <td>전기차 화재 사고가 연이어 발생하는 가운데 불타지 않는 SK이노베이션 배터리가 주목...</td>\n",
              "    </tr>\n",
              "  </tbody>\n",
              "</table>\n",
              "</div>"
            ],
            "text/plain": [
              "  Labels Predicted Label                                           Sentence\n",
              "0     생활              생활  차진 식감과 부드러운 감촉을 모두 지닌 식빵, 결결이 찢어지는 크루아상, 둥글고 크...\n",
              "1     정치              경제  정부는 2012년 예산의 공고안과 배정계획을 1월3일 국무회의에서 의결하고 연초부터...\n",
              "2     경제              사회  국세청은 특히 서민생활에 피해를 주면서 폭리를 취하는 매점매석 농수산물 유통업체 등...\n",
              "3     문화              문화  26일 제25회 부산국제영화제 갈라 프레젠테이션 부문 초청작 '스파이의 아내' 온라...\n",
              "4     사회              생활  70대 운전사가 몰던 25인승 어린이 통학버스가 주유소로 돌진해 차량 3대를 들이 ...\n",
              "5    스포츠             스포츠  토트넘이 손흥민에게 주급 20만 파운드(약 3억원)-5년 재계약을 제안할 준비를 마...\n",
              "6     연예              문화  공연은 말 그대로 다채로움 그 자체였다. 발레극인지, 현대무용극인지, 전통극인지, ...\n",
              "7  미용/건강           미용/건강  발이 아프면 걷는 자세가 나빠지고 자연스럽게 무릎, 골반, 허리에 이상이 생길 수 ...\n",
              "8  IT/과학              경제  전기차 화재 사고가 연이어 발생하는 가운데 불타지 않는 SK이노베이션 배터리가 주목..."
            ]
          },
          "metadata": {
            "tags": []
          },
          "execution_count": 41
        }
      ]
    },
    {
      "cell_type": "markdown",
      "metadata": {
        "id": "z5Z7ufn-bfua"
      },
      "source": [
        "### 5.2. CNN 모델 사용"
      ]
    },
    {
      "cell_type": "code",
      "metadata": {
        "id": "1OljhPFTbfua"
      },
      "source": [
        "# 3-layer CNN 모델 구성\n",
        "class CNN(nn.Module):\n",
        "    def __init__(self, vocab_size, embed_dim, n_filters, filter_size, output_dim, dropout, pad_idx):\n",
        "        super().__init__()\n",
        "        \n",
        "        # 룩업테이블\n",
        "        self.embedding = nn.Embedding(vocab_size, embed_dim, padding_idx=pad_idx)\n",
        "        \n",
        "        # cnn layers\n",
        "        self.conv_0 = nn.Conv2d(in_channels=1,\n",
        "                               out_channels=n_filters,\n",
        "                               kernel_size=(filter_size[0], embed_dim))\n",
        "        \n",
        "        self.conv_1 = nn.Conv2d(in_channels=1,\n",
        "                               out_channels=n_filters,\n",
        "                               kernel_size=(filter_size[1], embed_dim))\n",
        "        \n",
        "        self.conv_2 = nn.Conv2d(in_channels=1,\n",
        "                               out_channels=n_filters,\n",
        "                               kernel_size=(filter_size[2], embed_dim))\n",
        "        \n",
        "        self.norm0 = nn.BatchNorm1d(n_filters)\n",
        "        self.norm1 = nn.BatchNorm1d(n_filters)\n",
        "        self.norm2 = nn.BatchNorm1d(n_filters) \n",
        "        \n",
        "        self.prelu0 = nn.PReLU(n_filters)\n",
        "        self.prelu1 = nn.PReLU(n_filters)\n",
        "        self.prelu2 = nn.PReLU(n_filters)\n",
        "        \n",
        "        self.fc = nn.Linear(len(filter_size) * n_filters, output_dim)\n",
        "        self.dropout = nn.Dropout(dropout)\n",
        "\n",
        "    # x 모양 : [batch_size, sent length]\n",
        "    def forward(self, x):\n",
        "        \n",
        "        # word_embedding : [batch-size, sent_length, embed_dim]\n",
        "        word_embedding = self.embedding(x)     \n",
        "        \n",
        "        # [batch_size, 1, sent_length, embed dim ]\n",
        "        word_embedding = word_embedding.unsqueeze(1)\n",
        "        \n",
        "        # [batch size, n_filters, sent len - filter_sizes[n] + 1]\n",
        "        conved_0 = F.relu(self.norm0(self.conv_0(word_embedding).squeeze(3)))\n",
        "        conved_1 = F.relu(self.norm1(self.conv_1(word_embedding).squeeze(3)))        \n",
        "        conved_2 = F.relu(self.norm2(self.conv_2(word_embedding).squeeze(3)))        \n",
        "        \n",
        "        #pooled_n = [batch size, n_filters]\n",
        "        pooled_0 = F.max_pool1d(conved_0, conved_0.shape[2]).squeeze(2)\n",
        "        pooled_1 = F.max_pool1d(conved_1, conved_1.shape[2]).squeeze(2)\n",
        "        pooled_2 = F.max_pool1d(conved_2, conved_2.shape[2]).squeeze(2)\n",
        "        \n",
        "        # cat = [batch size, n filters * len(filter size)]\n",
        "        concat = self.dropout(torch.cat((pooled_0, pooled_1, pooled_2), dim=1))\n",
        "        scores = self.fc(concat)\n",
        "        return scores        "
      ],
      "execution_count": null,
      "outputs": []
    },
    {
      "cell_type": "code",
      "metadata": {
        "id": "7hLmpUcgbfua"
      },
      "source": [
        "INPUT_DIM = len(TEXT.vocab)\n",
        "EMBED_DIM = 300\n",
        "N_FILTERS = 128\n",
        "FILTER_SIZE = [5, 6, 7]\n",
        "OUTPUT_DIM = 9\n",
        "DROPOUT = 0.5\n",
        "PAD_IDX = TEXT.vocab.stoi[TEXT.pad_token]\n",
        "UNK_IDX = TEXT.vocab.stoi[TEXT.unk_token]\n",
        "\n",
        "model_cnn = CNN(INPUT_DIM, EMBED_DIM, N_FILTERS, FILTER_SIZE, OUTPUT_DIM, DROPOUT, PAD_IDX)"
      ],
      "execution_count": null,
      "outputs": []
    },
    {
      "cell_type": "code",
      "metadata": {
        "colab": {
          "base_uri": "https://localhost:8080/"
        },
        "id": "0CC0OP27bfua",
        "outputId": "b3999ee3-1328-4a1c-fd40-26aa3d1bd50e"
      },
      "source": [
        "# 위 4에서 구성한 단어 임베딩을 RNN 모델에 결합\n",
        "model_cnn.embedding.weight.data.copy_(pretrained_embeddings)"
      ],
      "execution_count": null,
      "outputs": [
        {
          "output_type": "execute_result",
          "data": {
            "text/plain": [
              "tensor([[-8.3752e-04,  9.9318e-03, -3.0366e-03,  ..., -1.2378e-02,\n",
              "          4.2520e-03, -1.1243e-02],\n",
              "        [-2.4911e-02,  1.9219e-02,  2.2654e-02,  ..., -6.7820e-04,\n",
              "          8.6682e-03, -4.9253e-03],\n",
              "        [-3.5333e-01, -1.3169e+00,  8.0137e-01,  ...,  2.7663e-01,\n",
              "         -4.8837e-01, -1.1233e-02],\n",
              "        ...,\n",
              "        [ 3.6000e-03,  1.0463e-05, -2.8822e-03,  ..., -5.0827e-03,\n",
              "          4.1577e-04, -1.6127e-03],\n",
              "        [ 6.4252e-03, -2.4886e-02,  1.4063e-02,  ...,  6.7811e-03,\n",
              "         -7.0167e-03,  1.5517e-02],\n",
              "        [ 7.9713e-04,  8.1465e-03, -6.4202e-03,  ...,  1.0091e-02,\n",
              "          4.5842e-03, -6.0374e-03]])"
            ]
          },
          "metadata": {
            "tags": []
          },
          "execution_count": 44
        }
      ]
    },
    {
      "cell_type": "code",
      "metadata": {
        "id": "ibQI3szWbfub"
      },
      "source": [
        "# UNK, PAD 토큰 처리 (zero vector로 초기화)\n",
        "\n",
        "UNK_IDX = TEXT.vocab.stoi[TEXT.unk_token]\n",
        "\n",
        "model_cnn.embedding.weight.data[UNK_IDX] = torch.zeros(EMBED_DIM)\n",
        "model_cnn.embedding.weight.data[PAD_IDX] = torch.zeros(EMBED_DIM)"
      ],
      "execution_count": null,
      "outputs": []
    },
    {
      "cell_type": "code",
      "metadata": {
        "colab": {
          "base_uri": "https://localhost:8080/"
        },
        "id": "MGkSf7wYbfub",
        "outputId": "bcdc3b74-dcab-4f14-835b-4c8ac003dd00"
      },
      "source": [
        "# 분류 모델이 학습하는 패러미터의 수\n",
        "print(f'The model has {count_parameters(model_cnn):,} trainable parameters')"
      ],
      "execution_count": null,
      "outputs": [
        {
          "output_type": "stream",
          "text": [
            "The model has 8,196,801 trainable parameters\n"
          ],
          "name": "stdout"
        }
      ]
    },
    {
      "cell_type": "markdown",
      "metadata": {
        "id": "cpacwhWtbfub"
      },
      "source": [
        "### 분류 모델 학습, 평가하기"
      ]
    },
    {
      "cell_type": "code",
      "metadata": {
        "id": "xHeSp2FTbfub"
      },
      "source": [
        "# 학습의 속도, 안정성 등을 최적화하기 위한 optimizer 설정\n",
        "optimizer = optim.Adam(model_cnn.parameters())\n",
        "\n",
        "# GPU가 있다면 GPU에서 모델 학습 및 평가 \n",
        "device = torch.device('cuda' if torch.cuda.is_available() else 'cpu')\n",
        "\n",
        "# 모델의 성능을 평가하기 위해 cross entropy loss 사용\n",
        "criterion = nn.CrossEntropyLoss()\n",
        "\n",
        "# 분류 모델과 loss 모델을 GPU(또는 CPU)에 세팅\n",
        "model_cnn = model_cnn.to(device)\n",
        "criterion = criterion.to(device)"
      ],
      "execution_count": null,
      "outputs": []
    },
    {
      "cell_type": "code",
      "metadata": {
        "colab": {
          "base_uri": "https://localhost:8080/"
        },
        "id": "rB1rF9JRbfub",
        "outputId": "6ac461ff-61f2-4012-bfb5-289a46d2453c"
      },
      "source": [
        "N_EPOCHS = 20\n",
        "\n",
        "best_test_loss = float('inf')\n",
        "best_test_acc = 0\n",
        "\n",
        "train_loss = [0 for i in range(N_EPOCHS)]\n",
        "train_acc =[0 for i in range(N_EPOCHS)]\n",
        "test_loss = [0 for i in range(N_EPOCHS)]\n",
        "test_acc = [0 for i in range(N_EPOCHS)]\n",
        "\n",
        "i = 0\n",
        "\n",
        "for epoch in range(N_EPOCHS):\n",
        "\n",
        "    start_time = time.time()\n",
        "\n",
        "    # training data를 이용해 모델 학습\n",
        "    train_loss[i], train_acc[i] = train(model_cnn, train_iterator, optimizer, criterion)\n",
        "    # test data를 이용해 모델 평가\n",
        "    test_loss[i], test_acc[i] = evaluate(model_cnn, test_iterator, criterion)\n",
        "    \n",
        "    end_time = time.time()\n",
        "\n",
        "    epoch_mins, epoch_secs = epoch_time(start_time, end_time)\n",
        "    \n",
        "    # 모델 평가: 각 epoch에서 얻은 최고 성능을 저장\n",
        "    if test_loss[i] < best_test_loss:\n",
        "        best_test_loss = test_loss[i]\n",
        "    \n",
        "    if test_acc[i] > best_test_acc:\n",
        "        best_test_acc = test_acc[i]\n",
        "    \n",
        "    print(f'Epoch: {epoch+1:02} | Epoch Time: {epoch_mins}m {epoch_secs}s')\n",
        "    print(f'\\tTrain Loss: {train_loss[i]:.3f} | Train Acc: {train_acc[i]*100:.2f}%')\n",
        "    print(f'\\t Test Loss: {test_loss[i]:.3f} |  Test Acc: {test_acc[i]*100:.2f}%')\n",
        "\n",
        "    i+=1"
      ],
      "execution_count": null,
      "outputs": [
        {
          "output_type": "stream",
          "text": [
            "Epoch: 01 | Epoch Time: 0m 6s\n",
            "\tTrain Loss: 236.738 | Train Acc: 50.51%\n",
            "\t Test Loss: 22.474 |  Test Acc: 72.94%\n",
            "Epoch: 02 | Epoch Time: 0m 6s\n",
            "\tTrain Loss: 137.242 | Train Acc: 67.64%\n",
            "\t Test Loss: 20.104 |  Test Acc: 75.17%\n",
            "Epoch: 03 | Epoch Time: 0m 6s\n",
            "\tTrain Loss: 112.190 | Train Acc: 73.02%\n",
            "\t Test Loss: 19.529 |  Test Acc: 76.17%\n",
            "Epoch: 04 | Epoch Time: 0m 6s\n",
            "\tTrain Loss: 94.278 | Train Acc: 77.30%\n",
            "\t Test Loss: 18.113 |  Test Acc: 77.11%\n",
            "Epoch: 05 | Epoch Time: 0m 6s\n",
            "\tTrain Loss: 82.571 | Train Acc: 79.74%\n",
            "\t Test Loss: 18.671 |  Test Acc: 77.06%\n",
            "Epoch: 06 | Epoch Time: 0m 6s\n",
            "\tTrain Loss: 70.314 | Train Acc: 82.50%\n",
            "\t Test Loss: 17.069 |  Test Acc: 79.17%\n",
            "Epoch: 07 | Epoch Time: 0m 6s\n",
            "\tTrain Loss: 63.652 | Train Acc: 84.24%\n",
            "\t Test Loss: 17.032 |  Test Acc: 79.50%\n",
            "Epoch: 08 | Epoch Time: 0m 6s\n",
            "\tTrain Loss: 56.038 | Train Acc: 86.28%\n",
            "\t Test Loss: 18.030 |  Test Acc: 78.89%\n",
            "Epoch: 09 | Epoch Time: 0m 6s\n",
            "\tTrain Loss: 50.419 | Train Acc: 87.68%\n",
            "\t Test Loss: 17.881 |  Test Acc: 77.83%\n",
            "Epoch: 10 | Epoch Time: 0m 6s\n",
            "\tTrain Loss: 44.716 | Train Acc: 89.23%\n",
            "\t Test Loss: 16.193 |  Test Acc: 80.44%\n",
            "Epoch: 11 | Epoch Time: 0m 6s\n",
            "\tTrain Loss: 38.368 | Train Acc: 90.63%\n",
            "\t Test Loss: 16.969 |  Test Acc: 80.67%\n",
            "Epoch: 12 | Epoch Time: 0m 6s\n",
            "\tTrain Loss: 33.936 | Train Acc: 91.47%\n",
            "\t Test Loss: 17.245 |  Test Acc: 80.33%\n",
            "Epoch: 13 | Epoch Time: 0m 6s\n",
            "\tTrain Loss: 29.389 | Train Acc: 92.76%\n",
            "\t Test Loss: 17.106 |  Test Acc: 80.89%\n",
            "Epoch: 14 | Epoch Time: 0m 6s\n",
            "\tTrain Loss: 26.249 | Train Acc: 93.88%\n",
            "\t Test Loss: 16.705 |  Test Acc: 81.44%\n",
            "Epoch: 15 | Epoch Time: 0m 6s\n",
            "\tTrain Loss: 23.164 | Train Acc: 94.37%\n",
            "\t Test Loss: 17.048 |  Test Acc: 80.44%\n",
            "Epoch: 16 | Epoch Time: 0m 6s\n",
            "\tTrain Loss: 20.110 | Train Acc: 95.24%\n",
            "\t Test Loss: 17.744 |  Test Acc: 81.06%\n",
            "Epoch: 17 | Epoch Time: 0m 6s\n",
            "\tTrain Loss: 16.671 | Train Acc: 96.24%\n",
            "\t Test Loss: 18.024 |  Test Acc: 80.50%\n",
            "Epoch: 18 | Epoch Time: 0m 6s\n",
            "\tTrain Loss: 16.272 | Train Acc: 96.19%\n",
            "\t Test Loss: 17.436 |  Test Acc: 81.61%\n",
            "Epoch: 19 | Epoch Time: 0m 6s\n",
            "\tTrain Loss: 14.750 | Train Acc: 96.49%\n",
            "\t Test Loss: 17.456 |  Test Acc: 81.83%\n",
            "Epoch: 20 | Epoch Time: 0m 6s\n",
            "\tTrain Loss: 12.585 | Train Acc: 97.11%\n",
            "\t Test Loss: 18.423 |  Test Acc: 81.00%\n"
          ],
          "name": "stdout"
        }
      ]
    },
    {
      "cell_type": "code",
      "metadata": {
        "id": "5WczcAeFbfuc"
      },
      "source": [
        "cnn_results = [test_loss, train_loss, test_acc, train_acc]"
      ],
      "execution_count": null,
      "outputs": []
    },
    {
      "cell_type": "code",
      "metadata": {
        "colab": {
          "base_uri": "https://localhost:8080/",
          "height": 668
        },
        "id": "FJb61pE3bfuc",
        "outputId": "8693663e-4b25-45cb-8b70-2d9580578f6f"
      },
      "source": [
        "P_graph(cnn_results[0], cnn_results[1], cnn_results[2], cnn_results[3])\n",
        "print(f'Best Test Acc: {best_test_acc*100:.2f}%    (Test Loss: {best_test_loss:.3f})')"
      ],
      "execution_count": null,
      "outputs": [
        {
          "output_type": "display_data",
          "data": {
            "image/png": "[encoded data removed]",
            "text/plain": [
              "<Figure size 720x360 with 1 Axes>"
            ]
          },
          "metadata": {
            "tags": [],
            "needs_background": "light"
          }
        },
        {
          "output_type": "display_data",
          "data": {
            "image/png": "[encoded data removed]",
            "text/plain": [
              "<Figure size 720x360 with 1 Axes>"
            ]
          },
          "metadata": {
            "tags": [],
            "needs_background": "light"
          }
        },
        {
          "output_type": "stream",
          "text": [
            "Best Test Acc: 81.83%    (Test Loss: 16.193)\n"
          ],
          "name": "stdout"
        }
      ]
    },
    {
      "cell_type": "code",
      "metadata": {
        "colab": {
          "base_uri": "https://localhost:8080/"
        },
        "id": "o84LWjmdbfuc",
        "outputId": "37ec543c-7ae9-42c6-fca7-6b533ca0a942"
      },
      "source": [
        "sentence = []\n",
        "sentence.append(\"차진 식감과 부드러운 감촉을 모두 지닌 식빵, 결결이 찢어지는 크루아상, 둥글고 크게 구운 호밀빵 모두 모양새부터 알차고 단단했다. 디저트로 눈을 옮기면 국가 대표팀같이 뭐 하나 빼놓을 수 없는 케이크가 나란히 줄을 서 있었다.\")\n",
        "sentence.append(\"정부는 2012년 예산의 공고안과 배정계획을 1월3일 국무회의에서 의결하고 연초부터 바로 집행에 들어간다. 세계 경제의 불확실성이 높아지고 경기가 둔화할 가능성이 높은 만큼 조기 집행에 박차를 가할 예정이다\")\n",
        "sentence.append(\"국세청은 특히 서민생활에 피해를 주면서 폭리를 취하는 매점매석 농수산물 유통업체 등에 대한 추적조사를 강화하고, 지방청에 ‘민생침해 사업자 조사전담팀’을 꾸려 민생침해 탈세자에 대한 엄정 대응에 나설 계획이라고 밝혔다\")\n",
        "sentence.append(\"26일 제25회 부산국제영화제 갈라 프레젠테이션 부문 초청작 '스파이의 아내' 온라인 기자회견이 진행됐다. 작품을 연출한 구로사와 감독이 참석해 작품에 대한 이야기를 나눴다.\")\n",
        "sentence.append(\"70대 운전사가 몰던 25인승 어린이 통학버스가 주유소로 돌진해 차량 3대를 들이 받았다. 다행히 통학버스에 운전자 외에는 탑승자가 없어 큰 인명피해는 피했다. 운전자는 차량 결함을 주장하고 있으나, 경찰은 운전자 과실 여부도 조사 중이다.\")\n",
        "sentence.append(\"토트넘이 손흥민에게 주급 20만 파운드(약 3억원)-5년 재계약을 제안할 준비를 마쳤다.' 25일(한국시각) 영국 대중일간 더선의 헤드라인이다. 조제 무리뉴 토트넘 감독이 번리전을 앞두고 기자회견을 통해 구단에 토트넘에서의 손흥민의 장밋빛 미래를 확신하며 재계약을 요청한 직후 영국 현지 언론에선 손흥민 재계약 보도가 쏟아지고 있다.\")\n",
        "sentence.append(\"공연은 말 그대로 다채로움 그 자체였다. 발레극인지, 현대무용극인지, 전통극인지, 연극인지, 연극이면 다인극인지 1인극인지 모를 정도로 다양한 장르의 결합이 먼저 눈에 띈다.\")\n",
        "sentence.append(\"발이 아프면 걷는 자세가 나빠지고 자연스럽게 무릎, 골반, 허리에 이상이 생길 수 있다. 이를 예방하려면 평소 발바닥 근육을 스트레칭하고 강화하는 운동을 지속하는 게 중요하다.\")\n",
        "sentence.append(\"전기차 화재 사고가 연이어 발생하는 가운데 불타지 않는 SK이노베이션 배터리가 주목받는다. SK이노베이션의 배터리는 글로벌 배터리 업체 중 유일하게 단 한건의 화재도 일어나지 않았다. 이같은 비결이 자동차 안정성을 결정짓는 분리막 내재화에 있다는 평가가 나온다.\")\n",
        "\n",
        "raw_data = {'Labels': ['생활','정치','경제','문화','사회','스포츠','연예','미용/건강','IT/과학']}\n",
        "\n",
        "print(predict_news(model_cnn, sentence[0]))\n",
        "print(predict_news(model_cnn, sentence[1]))\n",
        "print(predict_news(model_cnn, sentence[2]))"
      ],
      "execution_count": null,
      "outputs": [
        {
          "output_type": "stream",
          "text": [
            "{'Predicted Label': '문화', 'Sentence': '차진 식감과 부드러운 감촉을 모두 지닌 식빵, 결결이 찢어지는 크루아상, 둥글고 크게 구운 호밀빵 모두 모양새부터 알차고 단단했다. 디저트로 눈을 옮기면 국가 대표팀같이 뭐 하나 빼놓을 수 없는 케이크가 나란히 줄을 서 있었다.'}\n",
            "{'Predicted Label': '경제', 'Sentence': '정부는 2012년 예산의 공고안과 배정계획을 1월3일 국무회의에서 의결하고 연초부터 바로 집행에 들어간다. 세계 경제의 불확실성이 높아지고 경기가 둔화할 가능성이 높은 만큼 조기 집행에 박차를 가할 예정이다'}\n",
            "{'Predicted Label': '사회', 'Sentence': '국세청은 특히 서민생활에 피해를 주면서 폭리를 취하는 매점매석 농수산물 유통업체 등에 대한 추적조사를 강화하고, 지방청에 ‘민생침해 사업자 조사전담팀’을 꾸려 민생침해 탈세자에 대한 엄정 대응에 나설 계획이라고 밝혔다'}\n"
          ],
          "name": "stdout"
        }
      ]
    },
    {
      "cell_type": "code",
      "metadata": {
        "colab": {
          "base_uri": "https://localhost:8080/",
          "height": 345
        },
        "id": "qdoofIWtbfuc",
        "outputId": "19a26904-89d1-46a3-b776-33fa60733469"
      },
      "source": [
        "# 위의 결과를 표(DataFrame)로 나타내기\n",
        "\n",
        "result = pd.DataFrame(raw_data)\n",
        "\n",
        "df = pd.DataFrame()\n",
        "for s in sentence:\n",
        "  df = df.append(predict_news(model_cnn, s), ignore_index=True)\n",
        "\n",
        "result = pd.concat([result,df],axis=1, join='inner')\n",
        "\n",
        "Accuracy = sum((result['Labels'] == result['Predicted Label'])==True)/len(result) * 100\n",
        "\n",
        "print(\"Accuracy = \",round(Accuracy,2),\"%\")\n",
        "\n",
        "result"
      ],
      "execution_count": null,
      "outputs": [
        {
          "output_type": "stream",
          "text": [
            "Accuracy =  33.33 %\n"
          ],
          "name": "stdout"
        },
        {
          "output_type": "execute_result",
          "data": {
            "text/html": [
              "<div>\n",
              "<style scoped>\n",
              "    .dataframe tbody tr th:only-of-type {\n",
              "        vertical-align: middle;\n",
              "    }\n",
              "\n",
              "    .dataframe tbody tr th {\n",
              "        vertical-align: top;\n",
              "    }\n",
              "\n",
              "    .dataframe thead th {\n",
              "        text-align: right;\n",
              "    }\n",
              "</style>\n",
              "<table border=\"1\" class=\"dataframe\">\n",
              "  <thead>\n",
              "    <tr style=\"text-align: right;\">\n",
              "      <th></th>\n",
              "      <th>Labels</th>\n",
              "      <th>Predicted Label</th>\n",
              "      <th>Sentence</th>\n",
              "    </tr>\n",
              "  </thead>\n",
              "  <tbody>\n",
              "    <tr>\n",
              "      <th>0</th>\n",
              "      <td>생활</td>\n",
              "      <td>문화</td>\n",
              "      <td>차진 식감과 부드러운 감촉을 모두 지닌 식빵, 결결이 찢어지는 크루아상, 둥글고 크...</td>\n",
              "    </tr>\n",
              "    <tr>\n",
              "      <th>1</th>\n",
              "      <td>정치</td>\n",
              "      <td>경제</td>\n",
              "      <td>정부는 2012년 예산의 공고안과 배정계획을 1월3일 국무회의에서 의결하고 연초부터...</td>\n",
              "    </tr>\n",
              "    <tr>\n",
              "      <th>2</th>\n",
              "      <td>경제</td>\n",
              "      <td>사회</td>\n",
              "      <td>국세청은 특히 서민생활에 피해를 주면서 폭리를 취하는 매점매석 농수산물 유통업체 등...</td>\n",
              "    </tr>\n",
              "    <tr>\n",
              "      <th>3</th>\n",
              "      <td>문화</td>\n",
              "      <td>문화</td>\n",
              "      <td>26일 제25회 부산국제영화제 갈라 프레젠테이션 부문 초청작 '스파이의 아내' 온라...</td>\n",
              "    </tr>\n",
              "    <tr>\n",
              "      <th>4</th>\n",
              "      <td>사회</td>\n",
              "      <td>생활</td>\n",
              "      <td>70대 운전사가 몰던 25인승 어린이 통학버스가 주유소로 돌진해 차량 3대를 들이 ...</td>\n",
              "    </tr>\n",
              "    <tr>\n",
              "      <th>5</th>\n",
              "      <td>스포츠</td>\n",
              "      <td>스포츠</td>\n",
              "      <td>토트넘이 손흥민에게 주급 20만 파운드(약 3억원)-5년 재계약을 제안할 준비를 마...</td>\n",
              "    </tr>\n",
              "    <tr>\n",
              "      <th>6</th>\n",
              "      <td>연예</td>\n",
              "      <td>문화</td>\n",
              "      <td>공연은 말 그대로 다채로움 그 자체였다. 발레극인지, 현대무용극인지, 전통극인지, ...</td>\n",
              "    </tr>\n",
              "    <tr>\n",
              "      <th>7</th>\n",
              "      <td>미용/건강</td>\n",
              "      <td>미용/건강</td>\n",
              "      <td>발이 아프면 걷는 자세가 나빠지고 자연스럽게 무릎, 골반, 허리에 이상이 생길 수 ...</td>\n",
              "    </tr>\n",
              "    <tr>\n",
              "      <th>8</th>\n",
              "      <td>IT/과학</td>\n",
              "      <td>경제</td>\n",
              "      <td>전기차 화재 사고가 연이어 발생하는 가운데 불타지 않는 SK이노베이션 배터리가 주목...</td>\n",
              "    </tr>\n",
              "  </tbody>\n",
              "</table>\n",
              "</div>"
            ],
            "text/plain": [
              "  Labels Predicted Label                                           Sentence\n",
              "0     생활              문화  차진 식감과 부드러운 감촉을 모두 지닌 식빵, 결결이 찢어지는 크루아상, 둥글고 크...\n",
              "1     정치              경제  정부는 2012년 예산의 공고안과 배정계획을 1월3일 국무회의에서 의결하고 연초부터...\n",
              "2     경제              사회  국세청은 특히 서민생활에 피해를 주면서 폭리를 취하는 매점매석 농수산물 유통업체 등...\n",
              "3     문화              문화  26일 제25회 부산국제영화제 갈라 프레젠테이션 부문 초청작 '스파이의 아내' 온라...\n",
              "4     사회              생활  70대 운전사가 몰던 25인승 어린이 통학버스가 주유소로 돌진해 차량 3대를 들이 ...\n",
              "5    스포츠             스포츠  토트넘이 손흥민에게 주급 20만 파운드(약 3억원)-5년 재계약을 제안할 준비를 마...\n",
              "6     연예              문화  공연은 말 그대로 다채로움 그 자체였다. 발레극인지, 현대무용극인지, 전통극인지, ...\n",
              "7  미용/건강           미용/건강  발이 아프면 걷는 자세가 나빠지고 자연스럽게 무릎, 골반, 허리에 이상이 생길 수 ...\n",
              "8  IT/과학              경제  전기차 화재 사고가 연이어 발생하는 가운데 불타지 않는 SK이노베이션 배터리가 주목..."
            ]
          },
          "metadata": {
            "tags": []
          },
          "execution_count": 52
        }
      ]
    },
    {
      "cell_type": "code",
      "metadata": {
        "id": "L9rLEowJbfud"
      },
      "source": [
        ""
      ],
      "execution_count": null,
      "outputs": []
    }
  ]
}