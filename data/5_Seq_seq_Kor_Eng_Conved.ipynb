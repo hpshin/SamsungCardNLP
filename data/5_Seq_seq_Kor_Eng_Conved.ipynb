{
  "nbformat": 4,
  "nbformat_minor": 0,
  "metadata": {
    "kernelspec": {
      "display_name": "Python 3",
      "language": "python",
      "name": "python3"
    },
    "language_info": {
      "codemirror_mode": {
        "name": "ipython",
        "version": 3
      },
      "file_extension": ".py",
      "mimetype": "text/x-python",
      "name": "python",
      "nbconvert_exporter": "python",
      "pygments_lexer": "ipython3",
      "version": "3.6.8"
    },
    "colab": {
      "name": "5 - Seq_seq_Kor_Eng_Conved.ipynb",
      "provenance": [],
      "collapsed_sections": []
    },
    "accelerator": "GPU"
  },
  "cells": [
    {
      "cell_type": "markdown",
      "metadata": {
        "id": "LdhyRYJsvR_L"
      },
      "source": [
        "# 5 - Convolutional Sequence to Sequence Learning\n",
        "\n",
        "In this notebook we'll be implementing the [Convolutional Sequence to Sequence Learning](https://arxiv.org/abs/1705.03122) model. \n",
        "\n",
        "![](https://github.com/bentrevett/pytorch-seq2seq/raw/49df8404d938a6edbf729876405558cc2c2b3013/assets/convseq2seq0.png)\n",
        "\n",
        "## Introduction\n",
        "\n",
        "This model is drastically different to the previous models used in these tutorials. There are no recurrent components used at all. Instead it makes use of convolutional layers, typically used for image processing. For an introduction to convolutional layers on text for sentiment analysis, see [this](https://github.com/bentrevett/pytorch-sentiment-analysis/blob/master/4%20-%20Convolutional%20Sentiment%20Analysis.ipynb) tutorial. \n",
        "\n",
        "In short, a convolutional layer uses *filters*. These filters have a *width* (and also a *height* in images, but usually not text). If a filter has a width of 3, then it can see 3 consecutive tokens. Each convolutional layer has many of these filters (1024 in this tutorial). Each filter will slide across the sequence, from beginning to the end, looking at all 3 consectuive tokens at a time. The idea is that each of these 1024 filters will learn to extract a different feature from the text. The result of this feature extraction will then be used by the model - potentially as input to another convolutional layer. This can then all be used to extract features from the source sentence to translate it into the target language.\n",
        "\n",
        "\n",
        "## Preparing the Data\n",
        "\n",
        "First, let's import all the required modules and set the random seeds for reproducability.\n",
        "\n"
      ]
    },
    {
      "cell_type": "code",
      "metadata": {
        "colab": {
          "base_uri": "https://localhost:8080/"
        },
        "id": "8t7V0X6Yq5Df",
        "outputId": "5b0d442d-e744-4431-dfbf-bded36731fb7"
      },
      "source": [
        "# matplotlib에서 한글 폰트를 사용하기 위한 부분 \n",
        "!sudo apt-get install -y fonts-nanum\n",
        "!sudo fc-cache -fv\n",
        "!rm ~/.cache/matplotlib -rf\n",
        "# 런타임 재시작 필요 "
      ],
      "execution_count": 1,
      "outputs": [
        {
          "output_type": "stream",
          "text": [
            "Reading package lists... Done\n",
            "Building dependency tree       \n",
            "Reading state information... Done\n",
            "The following NEW packages will be installed:\n",
            "  fonts-nanum\n",
            "0 upgraded, 1 newly installed, 0 to remove and 39 not upgraded.\n",
            "Need to get 9,604 kB of archives.\n",
            "After this operation, 29.5 MB of additional disk space will be used.\n",
            "Get:1 http://archive.ubuntu.com/ubuntu bionic/universe amd64 fonts-nanum all 20170925-1 [9,604 kB]\n",
            "Fetched 9,604 kB in 9s (1,109 kB/s)\n",
            "debconf: unable to initialize frontend: Dialog\n",
            "debconf: (No usable dialog-like program is installed, so the dialog based frontend cannot be used. at /usr/share/perl5/Debconf/FrontEnd/Dialog.pm line 76, <> line 1.)\n",
            "debconf: falling back to frontend: Readline\n",
            "debconf: unable to initialize frontend: Readline\n",
            "debconf: (This frontend requires a controlling tty.)\n",
            "debconf: falling back to frontend: Teletype\n",
            "dpkg-preconfigure: unable to re-open stdin: \n",
            "Selecting previously unselected package fonts-nanum.\n",
            "(Reading database ... 160772 files and directories currently installed.)\n",
            "Preparing to unpack .../fonts-nanum_20170925-1_all.deb ...\n",
            "Unpacking fonts-nanum (20170925-1) ...\n",
            "Setting up fonts-nanum (20170925-1) ...\n",
            "Processing triggers for fontconfig (2.12.6-0ubuntu2) ...\n",
            "/usr/share/fonts: caching, new cache contents: 0 fonts, 1 dirs\n",
            "/usr/share/fonts/truetype: caching, new cache contents: 0 fonts, 3 dirs\n",
            "/usr/share/fonts/truetype/humor-sans: caching, new cache contents: 1 fonts, 0 dirs\n",
            "/usr/share/fonts/truetype/liberation: caching, new cache contents: 16 fonts, 0 dirs\n",
            "/usr/share/fonts/truetype/nanum: caching, new cache contents: 10 fonts, 0 dirs\n",
            "/usr/local/share/fonts: caching, new cache contents: 0 fonts, 0 dirs\n",
            "/root/.local/share/fonts: skipping, no such directory\n",
            "/root/.fonts: skipping, no such directory\n",
            "/var/cache/fontconfig: cleaning cache directory\n",
            "/root/.cache/fontconfig: not cleaning non-existent cache directory\n",
            "/root/.fontconfig: not cleaning non-existent cache directory\n",
            "fc-cache: succeeded\n"
          ],
          "name": "stdout"
        }
      ]
    },
    {
      "cell_type": "code",
      "metadata": {
        "id": "PqIUeiWNtfx8"
      },
      "source": [
        "import matplotlib.pyplot as plt\n",
        "\n",
        "plt.rc('font', family='NanumBarunGothic') "
      ],
      "execution_count": 1,
      "outputs": []
    },
    {
      "cell_type": "code",
      "metadata": {
        "id": "8Z0LoNzno-ig"
      },
      "source": [
        "import torch\n",
        "import torch.nn as nn\n",
        "import torch.optim as optim\n",
        "import torch.nn.functional as F\n",
        "\n",
        "from torchtext.legacy.data import Field, BucketIterator\n",
        "\n",
        "import matplotlib.pyplot as plt\n",
        "import matplotlib.ticker as ticker\n",
        "\n",
        "import spacy\n",
        "\n",
        "import random\n",
        "import math\n",
        "import time\n",
        "import numpy as np"
      ],
      "execution_count": 2,
      "outputs": []
    },
    {
      "cell_type": "markdown",
      "metadata": {
        "id": "HmgIMo627t-a"
      },
      "source": [
        "Next, we'll set the random seed for reproducability."
      ]
    },
    {
      "cell_type": "code",
      "metadata": {
        "id": "RtSb5iWZ7rmP"
      },
      "source": [
        "SEED = 1234\n",
        "\n",
        "random.seed(SEED)\n",
        "np.random.seed(SEED)\n",
        "torch.manual_seed(SEED)\n",
        "torch.cuda.manual_seed(SEED)\n",
        "torch.backends.cudnn.deterministic = True"
      ],
      "execution_count": 3,
      "outputs": []
    },
    {
      "cell_type": "markdown",
      "metadata": {
        "id": "MgIs_EBuvrZf"
      },
      "source": [
        "현재 사용하는 데이터는 이미 tokenization과 전처리가 되어 있는 것으로 간주하고 진행\n",
        "\n",
        "torchtext를 이용하여 데이터 Field 지정\n",
        "\n",
        "- Source language (SRC): 한국어\n",
        "- Target language (TRG): 영어 \n"
      ]
    },
    {
      "cell_type": "markdown",
      "metadata": {
        "id": "cgYShK1kv-rm"
      },
      "source": [
        "Next, we'll set up the `Field`s which decide how the data will be processed. By default RNN models in PyTorch require the sequence to be a tensor of shape **[sequence length, batch size]** so TorchText will, by default, return batches of tensors in the same shape. However in this notebook we are using CNNs which expect the batch dimension to be first. We tell TorchText to have batches be **[batch size, sequence length]** by setting `batch_first = True`.  \n",
        "\n",
        "We also append the start and end of sequence tokens as well as lowercasing all text."
      ]
    },
    {
      "cell_type": "code",
      "metadata": {
        "id": "BMDehG88ulLI"
      },
      "source": [
        "SRC = Field(tokenize = lambda x: x.split(), \n",
        "            init_token = '<sos>', \n",
        "            eos_token = '<eos>', \n",
        "            lower = True,\n",
        "            batch_first=True)\n",
        "\n",
        "TRG = Field(tokenize = lambda x: x.split(), \n",
        "            init_token = '<sos>', \n",
        "            eos_token = '<eos>', \n",
        "            lower = True,\n",
        "            batch_first=True)"
      ],
      "execution_count": 4,
      "outputs": []
    },
    {
      "cell_type": "markdown",
      "metadata": {
        "id": "RpiQiwg1wVFR"
      },
      "source": [
        "Then, we load our dataset."
      ]
    },
    {
      "cell_type": "code",
      "metadata": {
        "id": "XiZzmpVqulLM"
      },
      "source": [
        "from torchtext.legacy.data import TabularDataset\n",
        "\n",
        "raw_data = TabularDataset(\n",
        "        path='ko-en-parallel.tsv',\n",
        "        format='tsv',\n",
        "        skip_header=True,\n",
        "        fields=[(\"Kor\", SRC),(\"Eng\", TRG)])"
      ],
      "execution_count": 5,
      "outputs": []
    },
    {
      "cell_type": "code",
      "metadata": {
        "colab": {
          "base_uri": "https://localhost:8080/"
        },
        "id": "I59Go3iIulLN",
        "outputId": "fb67d75c-f579-41bf-d6f3-810d0ffaa3a4"
      },
      "source": [
        "print(f'Number of training examples: {len(raw_data)}')"
      ],
      "execution_count": 6,
      "outputs": [
        {
          "output_type": "stream",
          "text": [
            "Number of training examples: 330973\n"
          ],
          "name": "stdout"
        }
      ]
    },
    {
      "cell_type": "markdown",
      "metadata": {
        "id": "90R5bbUqvzpd"
      },
      "source": [
        "Split the dataset"
      ]
    },
    {
      "cell_type": "code",
      "metadata": {
        "id": "E4NDUohNulLN"
      },
      "source": [
        "import random\n",
        "\n",
        "SEED = 1234\n",
        "\n",
        "train_data, test_data = raw_data.split(random_state = random.seed(SEED), split_ratio=0.9)\n",
        "train_data, valid_data = train_data.split(random_state = random.seed(SEED), split_ratio=0.9)"
      ],
      "execution_count": 7,
      "outputs": []
    },
    {
      "cell_type": "code",
      "metadata": {
        "colab": {
          "base_uri": "https://localhost:8080/"
        },
        "id": "z3R0zWB1ulLO",
        "outputId": "0acccfdb-0d53-47d7-b6fc-df6d3e172207"
      },
      "source": [
        "print(f'Number of training examples: {len(train_data)}')\n",
        "print(f'Number of testing examples: {len(test_data)}')\n",
        "print(f'Number of valid examples: {len(valid_data)}')"
      ],
      "execution_count": 8,
      "outputs": [
        {
          "output_type": "stream",
          "text": [
            "Number of training examples: 268088\n",
            "Number of testing examples: 33097\n",
            "Number of valid examples: 29788\n"
          ],
          "name": "stdout"
        }
      ]
    },
    {
      "cell_type": "code",
      "metadata": {
        "colab": {
          "base_uri": "https://localhost:8080/"
        },
        "id": "QQX4EpoSulLO",
        "outputId": "09f5c90d-c994-446f-a0fa-2c1a88818c05"
      },
      "source": [
        "print(vars(train_data.examples[100]))"
      ],
      "execution_count": 9,
      "outputs": [
        {
          "output_type": "stream",
          "text": [
            "{'Kor': ['그것', '에', '대하', '아', '많', '은', '것', '을', '알', '고', '계시', 'ㅂ니까', '?'], 'Eng': ['do', 'you', 'know', 'much', 'about', 'it', '?']}\n"
          ],
          "name": "stdout"
        }
      ]
    },
    {
      "cell_type": "markdown",
      "metadata": {
        "id": "YYd5eV1Vv3S7"
      },
      "source": [
        "We build our vocabulary as before, by converting any tokens that appear less than 2 times into `<unk>` tokens.\n",
        "\n"
      ]
    },
    {
      "cell_type": "code",
      "metadata": {
        "id": "5T5DyEnkulLP"
      },
      "source": [
        "SRC.build_vocab(train_data, min_freq = 2)\n",
        "TRG.build_vocab(train_data, min_freq = 2)"
      ],
      "execution_count": 10,
      "outputs": []
    },
    {
      "cell_type": "code",
      "metadata": {
        "colab": {
          "base_uri": "https://localhost:8080/"
        },
        "id": "v9TK10XPulLQ",
        "outputId": "b233505d-9567-43e0-a27e-8c92ea7cbcb4"
      },
      "source": [
        "print(f\"Unique tokens in source (kr) vocabulary: {len(SRC.vocab)}\")\n",
        "print(f\"Unique tokens in target (en) vocabulary: {len(TRG.vocab)}\")"
      ],
      "execution_count": 11,
      "outputs": [
        {
          "output_type": "stream",
          "text": [
            "Unique tokens in source (kr) vocabulary: 16298\n",
            "Unique tokens in target (en) vocabulary: 14411\n"
          ],
          "name": "stdout"
        }
      ]
    },
    {
      "cell_type": "markdown",
      "metadata": {
        "id": "whrxEoNrwfWT"
      },
      "source": [
        "The final bit of data preparation is defining the device and then building the iterator."
      ]
    },
    {
      "cell_type": "code",
      "metadata": {
        "id": "daKlJWD9ulLR"
      },
      "source": [
        "device = torch.device('cuda' if torch.cuda.is_available() else 'cpu')"
      ],
      "execution_count": 12,
      "outputs": []
    },
    {
      "cell_type": "code",
      "metadata": {
        "id": "9jT8reSlulLS"
      },
      "source": [
        "BATCH_SIZE = 128\n",
        "\n",
        "train_iterator, valid_iterator, test_iterator = BucketIterator.splits(\n",
        "    (train_data, valid_data, test_data), sort_key=lambda x: len(x.Kor),\n",
        "    sort_within_batch=True,\n",
        "    batch_size = BATCH_SIZE,\n",
        "    device = device)"
      ],
      "execution_count": 13,
      "outputs": []
    },
    {
      "cell_type": "markdown",
      "metadata": {
        "id": "68brB4dFwv9r"
      },
      "source": [
        "## Building the Model\n",
        "\n",
        "Next up is building the model. As before, the model is made of an encoder and decoder. The encoder *encodes* the input sentence, in the source language, into a *context vector*. The decoder *decodes* the context vector to produce the output sentence in the target language.\n",
        "\n",
        "### Encoder\n",
        "\n",
        "Previous models in these tutorials had an encoder that compresses an entire input sentence into a single context vector, $z$. The convolutional sequence-to-sequence model is a little different - it gets two context vectors for each token in the input sentence. So, if our input sentence had 6 tokens, we would get 12 context vectors, two for each token. \n",
        "\n",
        "The two context vectors per token are a *conved* vector and a *combined* vector. The conved vector is the result of each token being passed through a few layers - which we will explain shortly. The combined vector comes from the sum of the convolved vector and the embedding of that token. Both of these are returned by the encoder to be used by the decoder.\n",
        "\n",
        "The image below shows the result of an input sentence - *zwei menschen fechten.* - being passed through the encoder.\n",
        "\n",
        "![](https://github.com/bentrevett/pytorch-seq2seq/raw/49df8404d938a6edbf729876405558cc2c2b3013/assets/convseq2seq1.png)\n",
        "\n",
        "First, the token is passed through a *token embedding layer* - which is standard for neural networks in natural language processing. However, as there are no recurrent connections in this model it has no idea about the order of the tokens within a sequence. To rectify this we have a second embedding layer, the *positional embedding layer*. This is a standard embedding layer where the input is not the token itself but the position of the token within the sequence - starting with the first token, the `<sos>` (start of sequence) token, in position 0.\n",
        "\n",
        "Next, the token and positional embeddings are elementwise summed together to get a vector which contains information about the token and also its position with in the sequence - which we simply call the *embedding vector*. This is followed by a linear layer which transforms the embedding vector into a vector with the required hidden dimension size. \n",
        "\n",
        "The next step is to pass this hidden vector into $N$ *convolutional blocks*. This is where the \"magic\" happens in this model and we will detail the contents of the convolutional blocks shortly. After passing through the convolutional blocks, the vector is then fed through another linear layer to transform it back from the hidden dimension size into the embedding dimension size. This is our *conved* vector - and we have one of these per token in the input sequence. \n",
        "\n",
        "Finally, the conved vector is elementwise summed with the embedding vector via a residual connection to get a *combined* vector for each token. Again, there is a combined vector for each token in the input sequence.\n",
        "\n",
        "### Convolutional Blocks\n",
        "\n",
        "So, how do these convolutional blocks work? The below image shows 2 convolutional blocks with a single filter (blue) that is sliding across the tokens within the sequence. In the actual implementation we will have 10 convolutional blocks with 1024 filters in each block.\n",
        "\n",
        "![](https://github.com/bentrevett/pytorch-seq2seq/raw/49df8404d938a6edbf729876405558cc2c2b3013/assets/convseq2seq2.png)\n",
        "\n",
        "First, the input sentence is padded. This is because the convolutional layers will reduce the length of the input sentence and we want the length of the sentence coming into the convolutional blocks to equal the length of it coming out of the convolutional blocks. Without padding, the length of the sequence coming out of a convolutional layer will be `filter_size - 1` shorter than the sequence entering the convolutional layer. For example, if we had a filter size of 3, the sequence will be 2 elements shorter. Thus, we pad the sentence with one padding element on each side. We can calculate the amount of padding on each side by simply doing `(filter_size - 1)/2` for odd sized filters - we will not cover even sized filters in this tutorial.\n",
        "\n",
        "These filters are designed so the output hidden dimension of them is twice the input hidden dimension. In computer vision terminology these hidden dimensions are called *channels* - but we will stick to calling them hidden dimensions. Why do we double the size of the hidden dimension leaving the convolutional filter? This is because we are using a special activation function called *gated linear units* (GLU). GLUs have gating mechanisms (similar to LSTMs and GRUs) contained within the activation function and actually half the size of the hidden dimension - whereas usually activation functions keep the hidden dimensions the same size.\n",
        "\n",
        "After passing through the GLU activation the hidden dimension size for each token is the same as it was when it entered the convolutional blocks. It is now elementwise summed with its own vector before it was passed through the convolutional layer. \n",
        "\n",
        "This concludes a single convolutional block. Subsequent blocks take the output of the previous block and perform the same steps. Each block has their own parameters, they are not shared between blocks. The output of the last block goes back to the main encoder - where it is fed through a linear layer to get the conved output and then elementwise summed with the embedding of the token to get the combined output.\n",
        "\n",
        "### Encoder Implementation\n",
        "\n",
        "To keep the implementation simple, we only allow for odd sized kernels. This allows padding to be added equally to both sides of the source sequence.\n",
        "\n",
        "The `scale` variable is used by the authors to \"ensure that the variance throughout the network does not change dramatically\". The performance of the model seems to vary wildly using different seeds if this is not used.\n",
        "\n",
        "The positional embedding is initialized to have a \"vocabulary\" of 100. This means it can handle sequences up to 100 elements long, indexed from 0 to 99. This can be increased if used on a dataset with longer sequences."
      ]
    },
    {
      "cell_type": "markdown",
      "metadata": {
        "id": "7bHr_DfPtOA_"
      },
      "source": [
        "**exploding gradient 문제 발생**\n",
        "\n",
        "- 해결을 위해 여러 방법이 있겠지만...\n",
        "- convolutional layer와 activation layer 사이에 batch normalization을 적용하여 해결\n",
        "- loss가 비정상적으로 증가하는 것은 해결되나 모델 성능이 전반적으로 떨어지게 됨\n",
        "- 이는 epoch 수를 충분히 높게 설정되면 완화됨 (예: 100)\n",
        "\n"
      ]
    },
    {
      "cell_type": "code",
      "metadata": {
        "id": "dhPEsVFGulLT"
      },
      "source": [
        "class Encoder(nn.Module):\n",
        "    def __init__(self, input_dim, emb_dim, hid_dim, n_layers,\n",
        "                 kernel_size, dropout, device, max_length=100):\n",
        "        super().__init__()\n",
        "        assert kernel_size % 2 == 1, \"Kernel size mubst be odd!\"\n",
        "        self.device = device\n",
        "        self.scale = torch.sqrt(torch.FloatTensor([0.5])).to(device)\n",
        "        \n",
        "        self.tok_embedding = nn.Embedding(input_dim, emb_dim)\n",
        "        self.pos_embedding = nn.Embedding(max_length, emb_dim)\n",
        "        \n",
        "        self.emb2hid = nn.Linear(emb_dim, hid_dim)\n",
        "        self.hid2emb = nn.Linear(hid_dim, emb_dim)\n",
        "        \n",
        "        self.convs = nn.ModuleList([nn.Conv1d(in_channels = hid_dim, \n",
        "                                              out_channels = 2 * hid_dim, \n",
        "                                              kernel_size = kernel_size, \n",
        "                                              padding = (kernel_size - 1) // 2)\n",
        "                                    for _ in range(n_layers)])\n",
        "        self.batchnorms = nn.ModuleList([nn.BatchNorm1d(hid_dim*2) for _ in range(n_layers)])\n",
        "        self.dropout = nn.Dropout(dropout)\n",
        "        \n",
        "    def forward(self, src):\n",
        "        # src = [batch size, src len]\n",
        "        batch_size = src.shape[0]\n",
        "        src_len = src.shape[1]\n",
        "        \n",
        "        # create position tensor\n",
        "        pos = torch.arange(0, src_len).unsqueeze(0).repeat(batch_size, 1).to(self.device)\n",
        "        \n",
        "        # pos = [0, 1, 2, 3, ..., src len - 1]\n",
        "        # pos = [batch size, src len]\n",
        "        \n",
        "        # embed tokens and positions\n",
        "        tok_embedded = self.tok_embedding(src)\n",
        "        pos_embedded = self.pos_embedding(pos)\n",
        "        # tok_embedded = pos_embedded = [batch size, src len, emb dim]\n",
        "        \n",
        "        # combine embeddings by elementwise summing\n",
        "        embedded = self.dropout(tok_embedded + pos_embedded)\n",
        "        # embedded = [batch size, src len, emb dim]\n",
        "        \n",
        "        # pass embedded through linear layer to convert from emb dim to hid dim\n",
        "        conv_input = self.emb2hid(embedded)\n",
        "        # conv_input = [batch size, src len, hid dim]\n",
        "        \n",
        "        #permute for convolutional layer\n",
        "        conv_input = conv_input.permute(0, 2, 1) \n",
        "        # conv_input = [batch size, hid dim, src len]\n",
        "        \n",
        "        # begin convolutional blocks...\n",
        "        for i, (bn, conv) in enumerate(zip(self.batchnorms, self.convs)):\n",
        "            # pass through convolutional layer, *and then apply batch normalization*\n",
        "            conved = bn(conv(conv_input))\n",
        "            # conved = [batch size, 2 * hid dim, src len]\n",
        "\n",
        "            # pass through GLU activation function\n",
        "            conved = self.dropout(F.glu(conved, dim = 1))\n",
        "            # conved = [batch size, hid dim, src len]\n",
        "            \n",
        "            #apply residual connection\n",
        "            conved = (conved + conv_input) * self.scale\n",
        "            # conved = [batch size, hid dim, src len]\n",
        "            \n",
        "            # set conv_input to conved for next loop iteration\n",
        "            conv_input = conved\n",
        "        # ...end convolutional blocks\n",
        "        \n",
        "        # permute and convert back to emb dim\n",
        "        conved = self.hid2emb(conved.permute(0, 2, 1))\n",
        "        # conved = [batch size, src len, emb dim]\n",
        "        \n",
        "        # elementwise sum output (conved) and input (embedded) to be used for attention\n",
        "        combined = (conved + embedded) * self.scale\n",
        "        # combined = [batch size, src len, emb dim]\n",
        "        \n",
        "        return conved, combined\n",
        "    \n",
        "    "
      ],
      "execution_count": 14,
      "outputs": []
    },
    {
      "cell_type": "markdown",
      "metadata": {
        "id": "wNBCJOHjw5i9"
      },
      "source": [
        "### Decoder\n",
        "\n",
        "The decoder takes in the actual target sentence and tries to predict it. This model differs from the recurrent neural network models previously detailed in these tutorials as it predicts all tokens within the target sentence in parallel. There is no sequential processing, i.e. no decoding loop. This will be detailed further later on in the tutorials.\n",
        "\n",
        "The decoder is similar to the encoder, with a few changes to both the main model and the convolutional blocks inside the model.\n",
        "\n",
        "![](https://github.com/bentrevett/pytorch-seq2seq/raw/49df8404d938a6edbf729876405558cc2c2b3013/assets/convseq2seq3.png)\n",
        "\n",
        "First, the embeddings do not have a residual connection that connects after the convolutional blocks and the transformation. Instead the embeddings are fed into the convolutional blocks to be used as residual connections there.\n",
        "\n",
        "Second, to feed the decoder information from the encoder, the encoder conved and combined outputs are used - again, within the convolutional blocks. \n",
        "\n",
        "Finally, the output of the decoder is a linear layer from embedding dimension to output dimension. This is used make a prediction about what the next word in the translation should be.\n",
        "\n",
        "### Decoder Convolutional Blocks\n",
        "\n",
        "Again, these are similar to the convolutional blocks within the encoder, with a few changes.\n",
        "\n",
        "![](https://github.com/bentrevett/pytorch-seq2seq/raw/49df8404d938a6edbf729876405558cc2c2b3013/assets/convseq2seq4.png)\n",
        "\n",
        "First, the padding. Instead of padding equally on each side to ensure the length of the sentence stays the same throughout, we only pad at the beginning of the sentence. As we are processing all of the targets simultaneously in parallel, and not sequentially, we need a method of only allowing the filters translating token $i$ to only look at tokens before word $i$. If they were allowed to look at token $i+1$ (the token they should be outputting), the model will simply learn to output the next word in the sequence by directly copying it, without actually learning how to translate.\n",
        "\n",
        "Let's see what happens if we **incorrectly** padded equally on each side, like we do in the encoder.\n",
        "\n",
        "![](https://github.com/bentrevett/pytorch-seq2seq/raw/49df8404d938a6edbf729876405558cc2c2b3013/assets/convseq2seq5.png)\n",
        "\n",
        "The filter at the first position, which is trying use the first word in the sequence, `<sos>` to predict the second word, `two`, can now directly see the word `two`. This is the same for every position, the word the model trying to predict is the second element covered by the filter. Thus, the filters can learn to simply copy the second word at each position allowing for perfect translation without actually learning how to translate.\n",
        "\n",
        "Second, after the GLU activation and before the residual connection, the block calculates and applies attention - using the encoded representations and the embedding of the current word. **Note**: we only show the connections to the rightmost token, but they are actually connected to all tokens - this was done for clarity. Each token input uses their own, and only their own, embedding for their own attention calculation.\n",
        "\n",
        "The attention is calculated by first using a linear layer to change the hidden dimension to the same size as the embedding dimension. Then the embedding summed via a residual connection. This combination then has the standard attention calculation applied by finding how much it \"matches\" with the *encoded conved* and then this is applied by getting a weighted sum over the *encoded combined*. This is then projected back up to the hidden dimenson size and a residual connection to the initial input to the attention layer is applied.\n",
        "\n",
        "Why do they calculate attention first with the encoded conved and then use it to calculate the weighted sum over the encoded combined? The paper argues that the encoded conved is good for getting a larger context over the encoded sequence, whereas the encoded combined has more information about the specific token and is thus therefore more useful for makng a prediction.\n",
        "\n",
        "### Decoder Impementation\n",
        "\n",
        "As we only pad on one side the decoder is allowed to use both odd and even sized padding. Again, the `scale` is used to reduce variance throughout the model and the position embedding is initialized to have a \"vocabulary\" of 100.\n",
        "\n",
        "This model takes in the encoder representations in its `forward` method and both are passed to the `calculate_attention` method which calculates and applies attention. It also returns the actual attention values, but we are not currently using them."
      ]
    },
    {
      "cell_type": "code",
      "metadata": {
        "id": "fbYk9oBw--x3"
      },
      "source": [
        "class Decoder(nn.Module):\n",
        "    def __init__(self, output_dim, emb_dim, hid_dim, n_layers, \n",
        "                 kernel_size, dropout, trg_pad_idx, device, max_length=100):\n",
        "        super().__init__()\n",
        "        self.kernel_size = kernel_size\n",
        "        self.trg_pad_idx = trg_pad_idx\n",
        "        self.device = device\n",
        "        self.scale = torch.sqrt(torch.FloatTensor([0.5])).to(device)\n",
        "        \n",
        "        self.tok_embedding = nn.Embedding(output_dim, emb_dim)\n",
        "        self.pos_embedding = nn.Embedding(max_length, emb_dim)\n",
        "        \n",
        "        self.emb2hid = nn.Linear(emb_dim, hid_dim)\n",
        "        self.hid2emb = nn.Linear(hid_dim, emb_dim)\n",
        "        \n",
        "        self.attn_hid2emb = nn.Linear(hid_dim, emb_dim)\n",
        "        self.attn_emb2hid = nn.Linear(emb_dim, hid_dim)\n",
        "        \n",
        "        self.fc_out = nn.Linear(emb_dim, output_dim)\n",
        "        self.convs = nn.ModuleList([nn.Conv1d(in_channels = hid_dim, \n",
        "                                              out_channels = 2 * hid_dim, \n",
        "                                              kernel_size = kernel_size)\n",
        "                                    for _ in range(n_layers)])\n",
        "        self.batchnorms = nn.ModuleList([nn.BatchNorm1d(hid_dim*2) for _ in range(n_layers)])\n",
        "        self.dropout = nn.Dropout(dropout)\n",
        "        \n",
        "    def calculate_attention(self, embedded, conved, encoder_conved, encoder_combined):\n",
        "        # embedded = [batch size, trg len, emb dim]\n",
        "        # conved = [batch size, hid dim, trg len]\n",
        "        # encoder_conved = encoder_combined = [batch size, src len, emb dim]\n",
        "        \n",
        "        # permute and convert back to emb dim\n",
        "        conved_emb = self.attn_hid2emb(conved.permute(0, 2, 1))\n",
        "        # conved_emb = [batch size, trg len, emb dim]\n",
        "        \n",
        "        combined = (conved_emb + embedded) * self.scale\n",
        "        # combined = [batch size, trg len, emb dim]\n",
        "                \n",
        "        energy = torch.matmul(combined, encoder_conved.permute(0, 2, 1))\n",
        "        # energy = [batch size, trg len, src len]\n",
        "        \n",
        "        attention = F.softmax(energy, dim=2)\n",
        "        # attention = [batch size, trg len, src len]\n",
        "            \n",
        "        attended_encoding = torch.matmul(attention, encoder_combined)\n",
        "        # attended_encoding = [batch size, trg len, emd dim]\n",
        "        \n",
        "        # convert from emb dim -> hid dim\n",
        "        attended_encoding = self.attn_emb2hid(attended_encoding)\n",
        "        # attended_encoding = [batch size, trg len, hid dim]\n",
        "        \n",
        "        # apply residual connection\n",
        "        attended_combined = (conved + attended_encoding.permute(0, 2, 1)) * self.scale\n",
        "        # attended_combined = [batch size, hid dim, trg len]\n",
        "        \n",
        "        return attention, attended_combined\n",
        "        \n",
        "    def forward(self, trg, encoder_conved, encoder_combined):\n",
        "        # trg = [batch size, trg len]\n",
        "        # encoder_conved = encoder_combined = [batch size, src len, emb dim]       \n",
        "        batch_size = trg.shape[0]\n",
        "        trg_len = trg.shape[1]\n",
        "            \n",
        "        # create position tensor\n",
        "        pos = torch.arange(0, trg_len).unsqueeze(0).repeat(batch_size, 1).to(self.device)\n",
        "        # pos = [batch size, trg len]\n",
        "        \n",
        "        # embed tokens and positions\n",
        "        tok_embedded = self.tok_embedding(trg)\n",
        "        pos_embedded = self.pos_embedding(pos)\n",
        "        # tok_embedded = [batch size, trg len, emb dim]\n",
        "        # pos_embedded = [batch size, trg len, emb dim]\n",
        "        \n",
        "        # combine embeddings by elementwise summing\n",
        "        embedded = self.dropout(tok_embedded + pos_embedded)\n",
        "        # embedded = [batch size, trg len, emb dim]\n",
        "        \n",
        "        # pass embedded through linear layer to go through emb dim -> hid dim\n",
        "        conv_input = self.emb2hid(embedded)\n",
        "        # conv_input = [batch size, trg len, hid dim]\n",
        "        \n",
        "        # permute for convolutional layer\n",
        "        conv_input = conv_input.permute(0, 2, 1) \n",
        "        # conv_input = [batch size, hid dim, trg len]\n",
        "        \n",
        "        batch_size = conv_input.shape[0]\n",
        "        hid_dim = conv_input.shape[1]\n",
        "        \n",
        "        for i, (bn, conv) in enumerate(zip(self.batchnorms, self.convs)):\n",
        "            # apply dropout\n",
        "            conv_input = self.dropout(conv_input)\n",
        "        \n",
        "            # need to pad so decoder can't \"cheat\"\n",
        "            padding = torch.zeros(batch_size, hid_dim, \n",
        "                                  self.kernel_size - 1).fill_(self.trg_pad_idx).to(self.device)\n",
        "                \n",
        "            padded_conv_input = torch.cat((padding, conv_input), dim = 2)\n",
        "            # padded_conv_input = [batch size, hid dim, trg len + kernel size - 1]\n",
        "        \n",
        "            #pass through convolutional layer, *and then apply batch normalization*\n",
        "            conved = bn(conv(padded_conv_input))\n",
        "            #conved = [batch size, 2 * hid dim, trg len]\n",
        "            \n",
        "            # pass through GLU activation function\n",
        "            conved = F.glu(conved, dim = 1)\n",
        "            # conved = [batch size, hid dim, trg len]\n",
        "            \n",
        "            # calculate attention\n",
        "            attention, conved = self.calculate_attention(embedded, conved, \n",
        "                                                         encoder_conved, \n",
        "                                                         encoder_combined)\n",
        "            # attention = [batch size, trg len, src len]\n",
        "            \n",
        "            # apply residual connection\n",
        "            conved = (conved + conv_input) * self.scale\n",
        "            # conved = [batch size, hid dim, trg len]\n",
        "            \n",
        "            # set conv_input to conved for next loop iteration\n",
        "            conv_input = conved\n",
        "            \n",
        "        conved = self.hid2emb(conved.permute(0, 2, 1))\n",
        "        # conved = [batch size, trg len, emb dim]\n",
        "            \n",
        "        output = self.fc_out(self.dropout(conved))\n",
        "        # output = [batch size, trg len, output dim]\n",
        "            \n",
        "        return output, attention\n",
        "    \n",
        "    "
      ],
      "execution_count": 15,
      "outputs": []
    },
    {
      "cell_type": "markdown",
      "metadata": {
        "id": "SqYZ8Ndow-La"
      },
      "source": [
        "### Seq2Seq\n",
        "\n",
        "The encapsulating `Seq2Seq` module is a lot different from recurrent neural network methods used in previous notebooks, especially in the decoding. \n",
        "\n",
        "Our `trg` has the `<eos>` element sliced off of the end of the sequence. This is because we do not input the `<eos>` token into the decoder.\n",
        "\n",
        "The encoding is similar, insert the source sequence and receive a \"context vector\". However, here we have two context vectors per word in the source sequence, `encoder_conved` and `encoder_combined`. \n",
        "\n",
        "As the decoding is done in parallel we do not need a decoding loop. All of the target sequence is input into the decoder at once and the padding is used to ensure each convolutional filter in the decoder can only see the current and previous tokens in the sequence as it slides across the sentence.\n",
        "\n",
        "This also, however, means we cannot do teacher forcing using this model. We do not have a loop in which we can choose whether to input the predicted token or the actual token in the sequence as everything is predicted in parallel."
      ]
    },
    {
      "cell_type": "code",
      "metadata": {
        "id": "8n4V5iqrulLc"
      },
      "source": [
        "class Seq2Seq(nn.Module):\n",
        "    def __init__(self, encoder, decoder):\n",
        "        super().__init__()\n",
        "        self.encoder = encoder\n",
        "        self.decoder = decoder\n",
        "        \n",
        "    def forward(self, src, trg):\n",
        "        # src = [batch size, src len]\n",
        "        # trg = [batch size, trg len - 1] (<eos> token sliced off the end)\n",
        "           \n",
        "        # calculate z^u (encoder_conved) and (z^u + e) (encoder_combined)\n",
        "        # encoder_conved is output from final encoder conv. block\n",
        "        # encoder_combined is encoder_conved plus (elementwise)  \n",
        "        # src embedding plus positional embeddings \n",
        "        encoder_conved, encoder_combined = self.encoder(src)\n",
        "        # encoder_conved = [batch size, src len, emb dim]\n",
        "        # encoder_combined = [batch size, src len, emb dim]\n",
        "        \n",
        "        # calculate predictions of next words\n",
        "        # output is a batch of predictions for each word in the trg sentence\n",
        "        # attention a batch of attention scores across the src sentence for \n",
        "        # each word in the trg sentence\n",
        "        output, attention = self.decoder(trg, encoder_conved, encoder_combined)\n",
        "        \n",
        "        # output = [batch size, trg len - 1, output dim]\n",
        "        # attention = [batch size, trg len - 1, src len]\n",
        "\n",
        "        return output, attention"
      ],
      "execution_count": 16,
      "outputs": []
    },
    {
      "cell_type": "markdown",
      "metadata": {
        "id": "zp4cGeKjxCta"
      },
      "source": [
        "## Training the Seq2Seq Model\n",
        "\n",
        "The rest of the tutorial is similar to all of the previous ones. We define all of the hyperparameters, initialize the encoder and decoder, and initialize the overall model - placing it on the GPU if we have one.\n",
        "\n",
        "In the paper they find that it is more beneficial to use a small filter (kernel size of 3) and a high number of layers (5+)."
      ]
    },
    {
      "cell_type": "code",
      "metadata": {
        "id": "Zx-gaJgEulLg"
      },
      "source": [
        "INPUT_DIM = len(SRC.vocab)\n",
        "OUTPUT_DIM = len(TRG.vocab)\n",
        "EMB_DIM = 256\n",
        "HID_DIM = 512 # each conv. layer has 2 * hid_dim filters\n",
        "ENC_LAYERS = 10 # number of conv. blocks in encoder\n",
        "DEC_LAYERS = 10 # number of conv. blocks in decoder\n",
        "ENC_KERNEL_SIZE = 3 # must be odd!\n",
        "DEC_KERNEL_SIZE = 3 # can be even or odd\n",
        "ENC_DROPOUT = 0.25\n",
        "DEC_DROPOUT = 0.25\n",
        "TRG_PAD_IDX = TRG.vocab.stoi[TRG.pad_token]\n",
        "    \n",
        "enc = Encoder(INPUT_DIM, EMB_DIM, HID_DIM, ENC_LAYERS, ENC_KERNEL_SIZE, ENC_DROPOUT, device)\n",
        "dec = Decoder(OUTPUT_DIM, EMB_DIM, HID_DIM, DEC_LAYERS, DEC_KERNEL_SIZE, DEC_DROPOUT, TRG_PAD_IDX, device)\n",
        "\n",
        "model = Seq2Seq(enc, dec).to(device)"
      ],
      "execution_count": 17,
      "outputs": []
    },
    {
      "cell_type": "markdown",
      "metadata": {
        "id": "8N7JbASzxKFH"
      },
      "source": [
        "We can also see that the model has almost twice as many parameters as the attention based model (20m to 43m)."
      ]
    },
    {
      "cell_type": "code",
      "metadata": {
        "colab": {
          "base_uri": "https://localhost:8080/"
        },
        "id": "Rz-NYInnulLg",
        "outputId": "5b10531d-b388-490e-ba55-761500968fdf"
      },
      "source": [
        "def count_parameters(model):\n",
        "    return sum(p.numel() for p in model.parameters() if p.requires_grad)\n",
        "\n",
        "print(f'The model has {count_parameters(model):,} trainable parameters')"
      ],
      "execution_count": 18,
      "outputs": [
        {
          "output_type": "stream",
          "text": [
            "The model has 43,923,787 trainable parameters\n"
          ],
          "name": "stdout"
        }
      ]
    },
    {
      "cell_type": "markdown",
      "metadata": {
        "id": "W4q36HOhxMD_"
      },
      "source": [
        "Next, we define the optimizer and the loss function (criterion). As before we ignore the loss where the target sequence is a padding token."
      ]
    },
    {
      "cell_type": "code",
      "metadata": {
        "id": "O9mrLI2uulLh"
      },
      "source": [
        "optimizer = optim.Adam(model.parameters())"
      ],
      "execution_count": 19,
      "outputs": []
    },
    {
      "cell_type": "code",
      "metadata": {
        "id": "XXtdhomUulLh"
      },
      "source": [
        "criterion = nn.CrossEntropyLoss(ignore_index = TRG_PAD_IDX)"
      ],
      "execution_count": 20,
      "outputs": []
    },
    {
      "cell_type": "markdown",
      "metadata": {
        "id": "PbV_gTh-xOBy"
      },
      "source": [
        "Then, we define the training loop for the model.\n",
        "\n",
        "We handle the sequences a little differently than previous tutorials. For all models we never put the `<eos>` into the decoder. This is handled in the RNN models by the having the decoder loop not reach having the `<eos>` as an input to the decoder. In this model, we simply slice the `<eos>` token off the end of the sequence. Thus:\n",
        "\n",
        "$$\\begin{align*}\n",
        "\\text{trg} &= [sos, x_1, x_2, x_3, eos]\\\\\n",
        "\\text{trg[:-1]} &= [sos, x_1, x_2, x_3]\n",
        "\\end{align*}$$\n",
        "\n",
        "$x_i$ denotes actual target sequence element. We then feed this into the model to get a predicted sequence that should hopefully predict the `<eos>` token:\n",
        "\n",
        "$$\\begin{align*}\n",
        "\\text{output} &= [y_1, y_2, y_3, eos]\n",
        "\\end{align*}$$\n",
        "\n",
        "$y_i$ denotes predicted target sequence element. We then calculate our loss using the original `trg` tensor with the `<sos>` token sliced off the front, leaving the `<eos>` token:\n",
        "\n",
        "$$\\begin{align*}\n",
        "\\text{output} &= [y_1, y_2, y_3, eos]\\\\\n",
        "\\text{trg[1:]} &= [x_1, x_2, x_3, eos]\n",
        "\\end{align*}$$\n",
        "\n",
        "We then calculate our losses and update our parameters as is standard."
      ]
    },
    {
      "cell_type": "code",
      "metadata": {
        "id": "3LZq_S6OulLh"
      },
      "source": [
        "def train(model, iterator, optimizer, criterion, clip):\n",
        "    model.train()\n",
        "    epoch_loss = 0\n",
        "    \n",
        "    for i, batch in enumerate(iterator):\n",
        "        src = batch.Kor\n",
        "        trg = batch.Eng\n",
        "\n",
        "        optimizer.zero_grad()\n",
        "\n",
        "        output, _ = model(src, trg[:,:-1])\n",
        "        #output = [batch size, trg len - 1, output dim]\n",
        "        #trg = [batch size, trg len]\n",
        "        output_dim = output.shape[-1]\n",
        "        output = output.contiguous().view(-1, output_dim)\n",
        "        trg = trg[:,1:].contiguous().view(-1)\n",
        "        # output = [batch size * trg len - 1, output dim]\n",
        "        # trg = [batch size * trg len - 1]\n",
        "        \n",
        "        loss = criterion(output, trg)\n",
        "        loss.backward()\n",
        "        torch.nn.utils.clip_grad_norm_(model.parameters(), clip)\n",
        "        optimizer.step()\n",
        "        epoch_loss += loss.item()\n",
        "        \n",
        "    return epoch_loss / len(iterator)"
      ],
      "execution_count": 31,
      "outputs": []
    },
    {
      "cell_type": "markdown",
      "metadata": {
        "id": "wSBmD0eVxkwY"
      },
      "source": [
        "The evaluation loop is the same as the training loop, just without the gradient calculations and parameter updates."
      ]
    },
    {
      "cell_type": "code",
      "metadata": {
        "id": "tdzDMKmGulLi"
      },
      "source": [
        "def evaluate(model, iterator, criterion):\n",
        "    model.eval()\n",
        "    epoch_loss = 0\n",
        "    \n",
        "    with torch.no_grad():\n",
        "        for i, batch in enumerate(iterator):\n",
        "          \n",
        "            src = batch.Kor\n",
        "            trg = batch.Eng\n",
        "\n",
        "            output, _ = model(src, trg[:,:-1])\n",
        "\n",
        "            #output = [batch size, trg len - 1, output dim]\n",
        "            #trg = [batch size, trg len]\n",
        "\n",
        "            output_dim = output.shape[-1]\n",
        "\n",
        "            output = output.contiguous().view(-1, output_dim)\n",
        "            trg = trg[:,1:].contiguous().view(-1)\n",
        "\n",
        "            #output = [batch size * trg len - 1, output dim]\n",
        "            #trg = [batch size * trg len - 1]\n",
        "            \n",
        "            loss = criterion(output, trg)\n",
        "            epoch_loss += loss.item()\n",
        "            \n",
        "    return epoch_loss / len(iterator)"
      ],
      "execution_count": 32,
      "outputs": []
    },
    {
      "cell_type": "markdown",
      "metadata": {
        "id": "p7g_s2MaxmxO"
      },
      "source": [
        "Again, we have a function that tells us how long each epoch takes."
      ]
    },
    {
      "cell_type": "code",
      "metadata": {
        "id": "XEZT0Q91ulLi"
      },
      "source": [
        "def epoch_time(start_time, end_time):\n",
        "    elapsed_time = end_time - start_time\n",
        "    elapsed_mins = int(elapsed_time / 60)\n",
        "    elapsed_secs = int(elapsed_time - (elapsed_mins * 60))\n",
        "    return elapsed_mins, elapsed_secs"
      ],
      "execution_count": 23,
      "outputs": []
    },
    {
      "cell_type": "markdown",
      "metadata": {
        "id": "rCxiFo6Fxotq"
      },
      "source": [
        "Finally, we train our model. Notice we have reduced the `CLIP` value from 1 to 0.1 in order to train this model more reliably. With higher `CLIP` values, the gradient occasionally explodes.\n",
        "\n",
        "Although we have almost twice as many parameters as the attention based RNN model, it actually takes around half the time as the standard version and about the same time as the packed padded sequences version. This is due to all calculations being done in parallel using the convolutional filters instead of sequentially using RNNs. \n",
        "\n",
        "**Note**: this model always has a teacher forcing ratio of 1, i.e. it will always use the ground truth next token from the target sequence. This means we cannot compare perplexity values against the previous models when they are using a teacher forcing ratio that is not 1. See [here](https://github.com/bentrevett/pytorch-seq2seq/issues/39#issuecomment-529408483) for the results of the attention based RNN using a teacher forcing ratio of 1. "
      ]
    },
    {
      "cell_type": "code",
      "metadata": {
        "id": "-al1VBYcNYBF"
      },
      "source": [
        "def train_and_test(model, outfile, train_iterator, test_iterator, valid_iterator, optimizer, criterion, clip=1, n_epochs=15):\n",
        "    best_valid_loss = float('inf')\n",
        "\n",
        "    print('=== TRAIN PHASE ===')\n",
        "    for epoch in range(n_epochs):\n",
        "        start_time = time.time()\n",
        "\n",
        "        train_loss = train(model, train_iterator, optimizer, criterion, clip)\n",
        "        valid_loss = evaluate(model, valid_iterator, criterion)\n",
        "\n",
        "        end_time = time.time()\n",
        "\n",
        "        epoch_mins, epoch_secs = epoch_time(start_time, end_time)\n",
        "\n",
        "        if valid_loss < best_valid_loss:\n",
        "            best_valid_loss = valid_loss\n",
        "            torch.save(model.state_dict(), '{}.pt'.format(outfile))\n",
        "\n",
        "        print(f'Epoch: {epoch+1:02} | Time: {epoch_mins}m {epoch_secs}s')\n",
        "        print(f'\\tTrain Loss: {train_loss:.3f} | Train PPL: {math.exp(train_loss):7.3f}')\n",
        "        print(f'\\t Val. Loss: {valid_loss:.3f} |  Val. PPL: {math.exp(valid_loss):7.3f}')\n",
        "\n",
        "    print('=== TEST PHASE ===')\n",
        "    model.load_state_dict(torch.load('{}.pt'.format(outfile)))\n",
        "    test_loss = evaluate(model, test_iterator, criterion)\n",
        "    print(f'| Test Loss: {test_loss:.3f} | Test PPL: {math.exp(test_loss):7.3f} |')"
      ],
      "execution_count": 33,
      "outputs": []
    },
    {
      "cell_type": "code",
      "metadata": {
        "colab": {
          "base_uri": "https://localhost:8080/"
        },
        "id": "wEdjhI4dWg9u",
        "outputId": "77da4b54-36bb-4505-bc6a-436aa393fa9d"
      },
      "source": [
        "train_and_test(model, 'convs2s', train_iterator, test_iterator, valid_iterator, optimizer, criterion, n_epochs=5)"
      ],
      "execution_count": 35,
      "outputs": [
        {
          "output_type": "stream",
          "text": [
            "=== TRAIN PHASE ===\n",
            "Epoch: 01 | Time: 14m 31s\n",
            "\tTrain Loss: 4.961 | Train PPL: 142.704\n",
            "\t Val. Loss: 4.600 |  Val. PPL:  99.479\n",
            "Epoch: 02 | Time: 14m 26s\n",
            "\tTrain Loss: 4.818 | Train PPL: 123.761\n",
            "\t Val. Loss: 4.447 |  Val. PPL:  85.370\n",
            "Epoch: 03 | Time: 14m 26s\n",
            "\tTrain Loss: 4.695 | Train PPL: 109.384\n",
            "\t Val. Loss: 4.239 |  Val. PPL:  69.359\n",
            "Epoch: 04 | Time: 14m 27s\n",
            "\tTrain Loss: 4.566 | Train PPL:  96.203\n",
            "\t Val. Loss: 4.188 |  Val. PPL:  65.887\n",
            "Epoch: 05 | Time: 14m 29s\n",
            "\tTrain Loss: 4.427 | Train PPL:  83.641\n",
            "\t Val. Loss: 3.980 |  Val. PPL:  53.511\n",
            "=== TEST PHASE ===\n",
            "| Test Loss: 3.973 | Test PPL:  53.153 |\n"
          ],
          "name": "stdout"
        }
      ]
    },
    {
      "cell_type": "markdown",
      "metadata": {
        "id": "KHZ9Os2jx0Un"
      },
      "source": [
        "We then load the parameters which obtained the lowest validation loss and calculate the loss over the test set. "
      ]
    },
    {
      "cell_type": "code",
      "metadata": {
        "colab": {
          "base_uri": "https://localhost:8080/"
        },
        "id": "pribp2sRulLj",
        "outputId": "39036e43-e87a-4823-807c-403d309edcf6"
      },
      "source": [
        "model.load_state_dict(torch.load('convs2s.pt'))\n",
        "\n",
        "test_loss = evaluate(model, test_iterator, criterion)\n",
        "\n",
        "print(f'| Test Loss: {test_loss:.3f}')"
      ],
      "execution_count": 36,
      "outputs": [
        {
          "output_type": "stream",
          "text": [
            "| Test Loss: 3.973\n"
          ],
          "name": "stdout"
        }
      ]
    },
    {
      "cell_type": "markdown",
      "metadata": {
        "id": "BTMvzeJmx4bY"
      },
      "source": [
        "## Inference\n",
        "\n",
        "Now we can can translations from our model with the `translate_sentence` function below.\n",
        "\n",
        "The steps taken are:\n",
        "- tokenize the source sentence if it has not been tokenized (is a string)\n",
        "- append the `<sos>` and `<eos>` tokens\n",
        "- numericalize the source sentence\n",
        "- convert it to a tensor and add a batch dimension\n",
        "- feed the source sentence into the encoder\n",
        "- create a list to hold the output sentence, initialized with an `<sos>` token\n",
        "- while we have not hit a maximum length\n",
        "  - convert the current output sentence prediction into a tensor with a batch dimension\n",
        "  - place the current output and the two encoder outputs into the decoder\n",
        "  - get next output token prediction from decoder\n",
        "  - add prediction to current output sentence prediction\n",
        "  - break if the prediction was an `<eos>` token\n",
        "- convert the output sentence from indexes to tokens\n",
        "- return the output sentence (with the `<sos>` token removed) and the attention from the last layer"
      ]
    },
    {
      "cell_type": "code",
      "metadata": {
        "id": "n6aNMrk5ulLk"
      },
      "source": [
        "def translate_sentence(sentence, src_field, trg_field, model, device, max_len=50):\n",
        "    UNSQUEEZE = 0\n",
        "\n",
        "    model.eval()\n",
        "    if isinstance(sentence, str):\n",
        "        tokens = sentence.split()\n",
        "    else: tokens = sentence\n",
        "    tokens = [src_field.init_token] + tokens + [src_field.eos_token]    \n",
        "    src_indexes = [src_field.vocab.stoi[token] for token in tokens]\n",
        "    src_tensor = torch.LongTensor(src_indexes).unsqueeze(UNSQUEEZE).to(device)\n",
        "    \n",
        "    with torch.no_grad():\n",
        "        encoder_conved, encoder_combined = model.encoder(src_tensor)\n",
        "    \n",
        "    trg_indexes = [trg_field.vocab.stoi[trg_field.init_token]]\n",
        "    trg_tokens = []\n",
        "    \n",
        "    for i in range(max_len):\n",
        "        trg_tensor = torch.LongTensor(trg_indexes).unsqueeze(UNSQUEEZE).to(device)\n",
        "        with torch.no_grad():\n",
        "            output, attention = model.decoder(trg_tensor, encoder_conved, encoder_combined)\n",
        "        pred_token = output.argmax(2)[:,-1].item()\n",
        "\n",
        "        if pred_token == trg_field.vocab.stoi['<unk>']:\n",
        "            continue   \n",
        "            trg_tokens.append(rom.split('/')[0])\n",
        "        else:\n",
        "            trg_tokens.append(trg_field.vocab.itos[pred_token])\n",
        "        \n",
        "        trg_indexes.append(pred_token)\n",
        "        \n",
        "        if pred_token == trg_field.vocab.stoi[trg_field.eos_token]:\n",
        "            break\n",
        "            \n",
        " \n",
        "    return trg_tokens[1:], attention"
      ],
      "execution_count": 76,
      "outputs": []
    },
    {
      "cell_type": "markdown",
      "metadata": {
        "id": "iajB4LavyDOU"
      },
      "source": [
        "Next, we have a function what will display how much the model pays attention to each input token during each step of the decoding."
      ]
    },
    {
      "cell_type": "code",
      "metadata": {
        "id": "zsJUKLaVulLk"
      },
      "source": [
        "def display_attention(model, sentence, translation, attention):\n",
        "    UNSQUEEZE = 0\n",
        "    \n",
        "    fig = plt.figure(figsize=(10,10))\n",
        "    ax = fig.add_subplot(111)\n",
        "    \n",
        "    attention = attention.squeeze(UNSQUEEZE).cpu().detach().numpy()\n",
        "    \n",
        "    cax = ax.matshow(attention, cmap='bone')\n",
        "   \n",
        "    ax.tick_params(labelsize=15)\n",
        "    ax.set_xticklabels(['']+['<sos>']+[t.lower() for t in sentence]+['<eos>'], \n",
        "                       rotation=45)\n",
        "    ax.set_yticklabels(['']+translation)\n",
        "\n",
        "    ax.xaxis.set_major_locator(ticker.MultipleLocator(1))\n",
        "    ax.yaxis.set_major_locator(ticker.MultipleLocator(1))\n",
        "\n",
        "    plt.show()\n",
        "    plt.close()\n"
      ],
      "execution_count": 67,
      "outputs": []
    },
    {
      "cell_type": "markdown",
      "metadata": {
        "id": "JqgNHQ-XyJdl"
      },
      "source": [
        "Then we'll finally start translating some sentences.\n",
        "\n",
        "First, we'll get an example from the training set:"
      ]
    },
    {
      "cell_type": "code",
      "metadata": {
        "colab": {
          "base_uri": "https://localhost:8080/"
        },
        "id": "CRGL4305ulLk",
        "outputId": "87566d1b-c09b-43c1-e7df-054ac2e7cee8"
      },
      "source": [
        "example_idx = 400\n",
        "\n",
        "src = vars(train_data.examples[example_idx])['Kor']\n",
        "trg = vars(train_data.examples[example_idx])['Eng']\n",
        "\n",
        "print(f'src = {src}')\n",
        "print(f'trg = {trg}')"
      ],
      "execution_count": 78,
      "outputs": [
        {
          "output_type": "stream",
          "text": [
            "src = ['이', '길', '이', '호림', '박물관', '으로', '가', '는', '길', '맞', '습니까', '?']\n",
            "trg = ['is', 'this', 'the', 'right', 'way', 'to', 'the', 'horimbangmulgwan', '?']\n"
          ],
          "name": "stdout"
        }
      ]
    },
    {
      "cell_type": "markdown",
      "metadata": {
        "id": "u9s8DpOqyRFZ"
      },
      "source": [
        "Then we pass it into our `translate_sentence` function which gives us the predicted translation tokens as well as the attention."
      ]
    },
    {
      "cell_type": "code",
      "metadata": {
        "colab": {
          "base_uri": "https://localhost:8080/"
        },
        "id": "0e-qqrGxulLl",
        "outputId": "17e9ee34-35b8-4bfe-aced-c06af7008bfb"
      },
      "source": [
        "translation, attention = translate_sentence(src, SRC, TRG, model, device)\n",
        "\n",
        "print(f'source src = {src}')\n",
        "print(f'predicted trg = {translation}')"
      ],
      "execution_count": 79,
      "outputs": [
        {
          "output_type": "stream",
          "text": [
            "source src = ['이', '길', '이', '호림', '박물관', '으로', '가', '는', '길', '맞', '습니까', '?']\n",
            "predicted trg = [\"'m\", 'the']\n"
          ],
          "name": "stdout"
        }
      ]
    },
    {
      "cell_type": "markdown",
      "metadata": {
        "id": "ex0Ehg6LyUHN"
      },
      "source": [
        "We can view the attention of the model, making sure it gives sensibile looking results.\n",
        "\n",
        "We can see it pays attention to *spielhaus* when generating the tokens *plastic* and *playhouse*."
      ]
    },
    {
      "cell_type": "code",
      "metadata": {
        "colab": {
          "base_uri": "https://localhost:8080/",
          "height": 241
        },
        "id": "QM1YdiaiulLl",
        "outputId": "5d5bcb53-dac0-4f9c-a573-76e824270770"
      },
      "source": [
        "display_attention(model, src, translation, attention)"
      ],
      "execution_count": 80,
      "outputs": [
        {
          "output_type": "display_data",
          "data": {
            "image/png": "[encoded data removed]",
            "text/plain": [
              "<Figure size 720x720 with 1 Axes>"
            ]
          },
          "metadata": {
            "tags": [],
            "needs_background": "light"
          }
        }
      ]
    },
    {
      "cell_type": "markdown",
      "metadata": {
        "id": "H6LOEpnmyZb1"
      },
      "source": [
        "Let's see how well it translates an example that is not in the training set."
      ]
    },
    {
      "cell_type": "code",
      "metadata": {
        "colab": {
          "base_uri": "https://localhost:8080/"
        },
        "id": "E8WCBRNHulLl",
        "outputId": "c67a13ca-0416-4ebf-a384-33a780285d95"
      },
      "source": [
        "example_idx = 35\n",
        "\n",
        "src = vars(valid_data.examples[example_idx])['Kor']\n",
        "trg = vars(valid_data.examples[example_idx])['Eng']\n",
        "\n",
        "print(f'src = {src}')\n",
        "print(f'trg = {trg}')"
      ],
      "execution_count": 81,
      "outputs": [
        {
          "output_type": "stream",
          "text": [
            "src = ['8', '시', '에', '부탁', '하', 'ㅂ니다', '.']\n",
            "trg = ['at', '8', \"o'clock\", ',', 'please', '.']\n"
          ],
          "name": "stdout"
        }
      ]
    },
    {
      "cell_type": "markdown",
      "metadata": {
        "id": "fxvpptf0ybeM"
      },
      "source": [
        "The model manages to do a decent job at this one."
      ]
    },
    {
      "cell_type": "markdown",
      "metadata": {
        "id": "Bu8hEeQ2yeEE"
      },
      "source": [
        "Again, we can see the attention is applied to sensible words - *junge* for *boy*, *einer* for *of* and *a*, etc. Weirdly the attention when decoding the `<eos>` token focuses on *frau*."
      ]
    },
    {
      "cell_type": "code",
      "metadata": {
        "colab": {
          "base_uri": "https://localhost:8080/",
          "height": 549
        },
        "id": "oG3fT0YwulLl",
        "outputId": "94891f3b-ca08-40f2-d15f-fb8c380491ff"
      },
      "source": [
        "translation, attention = translate_sentence(src, SRC, TRG, model, device)\n",
        "\n",
        "print(f'source src = {src}')\n",
        "print(f'predicted trg = {translation}')\n",
        "\n",
        "display_attention(model, src, translation, attention)"
      ],
      "execution_count": 82,
      "outputs": [
        {
          "output_type": "stream",
          "text": [
            "source src = ['8', '시', '에', '부탁', '하', 'ㅂ니다', '.']\n",
            "predicted trg = [\"'ll\", 'like', 'you', 'try', '?', '<eos>']\n"
          ],
          "name": "stdout"
        },
        {
          "output_type": "display_data",
          "data": {
            "image/png": "[encoded data removed]",
            "text/plain": [
              "<Figure size 720x720 with 1 Axes>"
            ]
          },
          "metadata": {
            "tags": [],
            "needs_background": "light"
          }
        }
      ]
    },
    {
      "cell_type": "markdown",
      "metadata": {
        "id": "8gneGE4Aykn7"
      },
      "source": [
        "Finally, let's check an example from the test set."
      ]
    },
    {
      "cell_type": "code",
      "metadata": {
        "colab": {
          "base_uri": "https://localhost:8080/"
        },
        "id": "EK5mj_tSulLm",
        "outputId": "175322e8-7f8c-4377-9f09-5b6cc85aa61e"
      },
      "source": [
        "example_idx = 510\n",
        "\n",
        "src = vars(test_data.examples[example_idx])['Kor']\n",
        "trg = vars(test_data.examples[example_idx])['Eng']\n",
        "\n",
        "print(f'src = {src}')\n",
        "print(f'trg = {trg}')"
      ],
      "execution_count": 83,
      "outputs": [
        {
          "output_type": "stream",
          "text": [
            "src = ['경찰', '박물관', '이', '어디', '있', '습니까', '?']\n",
            "trg = ['where', 'can', 'i', 'find', 'the', 'gyeongchalbangmulgwan', '?']\n"
          ],
          "name": "stdout"
        }
      ]
    },
    {
      "cell_type": "markdown",
      "metadata": {
        "id": "MbNcrA28yprI"
      },
      "source": [
        "We get a correct translation here, swapping *are fixing* to *repair*."
      ]
    },
    {
      "cell_type": "markdown",
      "metadata": {
        "id": "E_wgNkZQyto3"
      },
      "source": [
        "The attention seems to be correct. We again have weird attention for decoding the `<eos>` token, it seems to focus on the word before the period. One explanation could be that the model is paying attention to the final word in a sentence to see if the input sequence consists of two sentences, and if not it generates the `<eos>` token."
      ]
    },
    {
      "cell_type": "code",
      "metadata": {
        "colab": {
          "base_uri": "https://localhost:8080/",
          "height": 487
        },
        "id": "7MzgW5m6ulLm",
        "outputId": "f53e66ec-e343-4b0a-ae74-19c6e9139894"
      },
      "source": [
        "translation, attention = translate_sentence(src, SRC, TRG, model, device)\n",
        "\n",
        "print(f'source src = {src}')\n",
        "print(f'predicted trg = {translation}')\n",
        "\n",
        "display_attention(model, src, translation, attention)"
      ],
      "execution_count": 84,
      "outputs": [
        {
          "output_type": "stream",
          "text": [
            "source src = ['경찰', '박물관', '이', '어디', '있', '습니까', '?']\n",
            "predicted trg = ['you', 'have', 'a', '?', '<eos>']\n"
          ],
          "name": "stdout"
        },
        {
          "output_type": "display_data",
          "data": {
            "image/png": "[encoded data removed]",
            "text/plain": [
              "<Figure size 720x720 with 1 Axes>"
            ]
          },
          "metadata": {
            "tags": [],
            "needs_background": "light"
          }
        }
      ]
    },
    {
      "cell_type": "code",
      "metadata": {
        "colab": {
          "base_uri": "https://localhost:8080/",
          "height": 447
        },
        "id": "iCxiehEIulLm",
        "outputId": "ce410a16-9eed-4ad3-ec4f-3a3671ea480c"
      },
      "source": [
        "src ='이 비자 는 언제 까지 유효하 ㄴ가요 ?'\n",
        "translation, attention = translate_sentence(src, SRC, TRG, model, device)\n",
        "\n",
        "print(f'source src = {src}')\n",
        "print(f'predicted trg = {translation}')\n",
        "\n",
        "display_attention(model, src, translation, attention)"
      ],
      "execution_count": 85,
      "outputs": [
        {
          "output_type": "stream",
          "text": [
            "source src = 이 비자 는 언제 까지 유효하 ㄴ가요 ?\n",
            "predicted trg = ['long', 'is', 'it', '?', '<eos>']\n"
          ],
          "name": "stdout"
        },
        {
          "output_type": "display_data",
          "data": {
            "image/png": "[encoded data removed]",
            "text/plain": [
              "<Figure size 720x720 with 1 Axes>"
            ]
          },
          "metadata": {
            "tags": [],
            "needs_background": "light"
          }
        }
      ]
    },
    {
      "cell_type": "markdown",
      "metadata": {
        "id": "ZKQhYwFqyzi7"
      },
      "source": [
        "## BLEU\n",
        "\n",
        "Finally, we calculate the BLEU score for the model."
      ]
    },
    {
      "cell_type": "code",
      "metadata": {
        "id": "46kSh072y10Z"
      },
      "source": [
        "from torchtext.data.metrics import bleu_score\n",
        "\n",
        "def calculate_bleu(data, src_field, trg_field, model, device, max_len = 50):\n",
        "    \n",
        "    trgs = []\n",
        "    pred_trgs = []\n",
        "    \n",
        "    for datum in data:\n",
        "        \n",
        "        src = vars(datum)['Kor']\n",
        "        trg = vars(datum)['Eng']\n",
        "        \n",
        "        pred_trg, _ = translate_sentence(src, src_field, trg_field, model, device, max_len)\n",
        "        \n",
        "        #cut off <eos> token\n",
        "        pred_trg = pred_trg[:-1]\n",
        "        \n",
        "        pred_trgs.append(pred_trg)\n",
        "        trgs.append([trg])\n",
        "        \n",
        "    return bleu_score(pred_trgs, trgs)"
      ],
      "execution_count": 88,
      "outputs": []
    },
    {
      "cell_type": "code",
      "metadata": {
        "colab": {
          "base_uri": "https://localhost:8080/"
        },
        "id": "6fJ0hMzRy4vF",
        "outputId": "520d1efe-39bc-4ae6-d13b-058ac5b6c0e4"
      },
      "source": [
        "bleu_score = calculate_bleu(test_data, SRC, TRG, model, device)\n",
        "\n",
        "print(f'BLEU score = {bleu_score*100:.2f}')"
      ],
      "execution_count": 89,
      "outputs": [
        {
          "output_type": "stream",
          "text": [
            "BLEU score = 1.23\n"
          ],
          "name": "stdout"
        }
      ]
    }
  ]
}